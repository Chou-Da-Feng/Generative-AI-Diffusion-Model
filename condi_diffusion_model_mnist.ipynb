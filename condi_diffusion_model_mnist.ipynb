{
  "nbformat": 4,
  "nbformat_minor": 0,
  "metadata": {
    "colab": {
      "provenance": [],
      "gpuType": "T4"
    },
    "kernelspec": {
      "name": "python3",
      "display_name": "Python 3"
    },
    "language_info": {
      "name": "python"
    },
    "widgets": {
      "application/vnd.jupyter.widget-state+json": {
        "792e059c723f46d28e42872e1c37ee74": {
          "model_module": "@jupyter-widgets/controls",
          "model_name": "HBoxModel",
          "model_module_version": "1.5.0",
          "state": {
            "_dom_classes": [],
            "_model_module": "@jupyter-widgets/controls",
            "_model_module_version": "1.5.0",
            "_model_name": "HBoxModel",
            "_view_count": null,
            "_view_module": "@jupyter-widgets/controls",
            "_view_module_version": "1.5.0",
            "_view_name": "HBoxView",
            "box_style": "",
            "children": [
              "IPY_MODEL_fd22336dc01d46ae915846382e47e68e",
              "IPY_MODEL_b1aa7c235dfd4e289f8a2844bc92ebec",
              "IPY_MODEL_a4b29a46fe9c4264a67e8cb4279f3740"
            ],
            "layout": "IPY_MODEL_763c270b7d0c415687d68e3845d1b157"
          }
        },
        "fd22336dc01d46ae915846382e47e68e": {
          "model_module": "@jupyter-widgets/controls",
          "model_name": "HTMLModel",
          "model_module_version": "1.5.0",
          "state": {
            "_dom_classes": [],
            "_model_module": "@jupyter-widgets/controls",
            "_model_module_version": "1.5.0",
            "_model_name": "HTMLModel",
            "_view_count": null,
            "_view_module": "@jupyter-widgets/controls",
            "_view_module_version": "1.5.0",
            "_view_name": "HTMLView",
            "description": "",
            "description_tooltip": null,
            "layout": "IPY_MODEL_a518f8d1e4544547b3a2b7aa07a8edd4",
            "placeholder": "​",
            "style": "IPY_MODEL_9e999c6e5d8741e28af0999c5d0fda8f",
            "value": "Downloading data: 100%"
          }
        },
        "b1aa7c235dfd4e289f8a2844bc92ebec": {
          "model_module": "@jupyter-widgets/controls",
          "model_name": "FloatProgressModel",
          "model_module_version": "1.5.0",
          "state": {
            "_dom_classes": [],
            "_model_module": "@jupyter-widgets/controls",
            "_model_module_version": "1.5.0",
            "_model_name": "FloatProgressModel",
            "_view_count": null,
            "_view_module": "@jupyter-widgets/controls",
            "_view_module_version": "1.5.0",
            "_view_name": "ProgressView",
            "bar_style": "success",
            "description": "",
            "description_tooltip": null,
            "layout": "IPY_MODEL_6516739fe6c140fa90dbdda3a55ff2a1",
            "max": 15561616,
            "min": 0,
            "orientation": "horizontal",
            "style": "IPY_MODEL_0eeb44b8adb8476e956f5fc629d52f16",
            "value": 15561616
          }
        },
        "a4b29a46fe9c4264a67e8cb4279f3740": {
          "model_module": "@jupyter-widgets/controls",
          "model_name": "HTMLModel",
          "model_module_version": "1.5.0",
          "state": {
            "_dom_classes": [],
            "_model_module": "@jupyter-widgets/controls",
            "_model_module_version": "1.5.0",
            "_model_name": "HTMLModel",
            "_view_count": null,
            "_view_module": "@jupyter-widgets/controls",
            "_view_module_version": "1.5.0",
            "_view_name": "HTMLView",
            "description": "",
            "description_tooltip": null,
            "layout": "IPY_MODEL_704d7082ad42473db58c490785e8ab3b",
            "placeholder": "​",
            "style": "IPY_MODEL_bc6b162f6e1c441a8f5383f3804b0f74",
            "value": " 15.6M/15.6M [00:03&lt;00:00, 4.24MB/s]"
          }
        },
        "763c270b7d0c415687d68e3845d1b157": {
          "model_module": "@jupyter-widgets/base",
          "model_name": "LayoutModel",
          "model_module_version": "1.2.0",
          "state": {
            "_model_module": "@jupyter-widgets/base",
            "_model_module_version": "1.2.0",
            "_model_name": "LayoutModel",
            "_view_count": null,
            "_view_module": "@jupyter-widgets/base",
            "_view_module_version": "1.2.0",
            "_view_name": "LayoutView",
            "align_content": null,
            "align_items": null,
            "align_self": null,
            "border": null,
            "bottom": null,
            "display": null,
            "flex": null,
            "flex_flow": null,
            "grid_area": null,
            "grid_auto_columns": null,
            "grid_auto_flow": null,
            "grid_auto_rows": null,
            "grid_column": null,
            "grid_gap": null,
            "grid_row": null,
            "grid_template_areas": null,
            "grid_template_columns": null,
            "grid_template_rows": null,
            "height": null,
            "justify_content": null,
            "justify_items": null,
            "left": null,
            "margin": null,
            "max_height": null,
            "max_width": null,
            "min_height": null,
            "min_width": null,
            "object_fit": null,
            "object_position": null,
            "order": null,
            "overflow": null,
            "overflow_x": null,
            "overflow_y": null,
            "padding": null,
            "right": null,
            "top": null,
            "visibility": null,
            "width": null
          }
        },
        "a518f8d1e4544547b3a2b7aa07a8edd4": {
          "model_module": "@jupyter-widgets/base",
          "model_name": "LayoutModel",
          "model_module_version": "1.2.0",
          "state": {
            "_model_module": "@jupyter-widgets/base",
            "_model_module_version": "1.2.0",
            "_model_name": "LayoutModel",
            "_view_count": null,
            "_view_module": "@jupyter-widgets/base",
            "_view_module_version": "1.2.0",
            "_view_name": "LayoutView",
            "align_content": null,
            "align_items": null,
            "align_self": null,
            "border": null,
            "bottom": null,
            "display": null,
            "flex": null,
            "flex_flow": null,
            "grid_area": null,
            "grid_auto_columns": null,
            "grid_auto_flow": null,
            "grid_auto_rows": null,
            "grid_column": null,
            "grid_gap": null,
            "grid_row": null,
            "grid_template_areas": null,
            "grid_template_columns": null,
            "grid_template_rows": null,
            "height": null,
            "justify_content": null,
            "justify_items": null,
            "left": null,
            "margin": null,
            "max_height": null,
            "max_width": null,
            "min_height": null,
            "min_width": null,
            "object_fit": null,
            "object_position": null,
            "order": null,
            "overflow": null,
            "overflow_x": null,
            "overflow_y": null,
            "padding": null,
            "right": null,
            "top": null,
            "visibility": null,
            "width": null
          }
        },
        "9e999c6e5d8741e28af0999c5d0fda8f": {
          "model_module": "@jupyter-widgets/controls",
          "model_name": "DescriptionStyleModel",
          "model_module_version": "1.5.0",
          "state": {
            "_model_module": "@jupyter-widgets/controls",
            "_model_module_version": "1.5.0",
            "_model_name": "DescriptionStyleModel",
            "_view_count": null,
            "_view_module": "@jupyter-widgets/base",
            "_view_module_version": "1.2.0",
            "_view_name": "StyleView",
            "description_width": ""
          }
        },
        "6516739fe6c140fa90dbdda3a55ff2a1": {
          "model_module": "@jupyter-widgets/base",
          "model_name": "LayoutModel",
          "model_module_version": "1.2.0",
          "state": {
            "_model_module": "@jupyter-widgets/base",
            "_model_module_version": "1.2.0",
            "_model_name": "LayoutModel",
            "_view_count": null,
            "_view_module": "@jupyter-widgets/base",
            "_view_module_version": "1.2.0",
            "_view_name": "LayoutView",
            "align_content": null,
            "align_items": null,
            "align_self": null,
            "border": null,
            "bottom": null,
            "display": null,
            "flex": null,
            "flex_flow": null,
            "grid_area": null,
            "grid_auto_columns": null,
            "grid_auto_flow": null,
            "grid_auto_rows": null,
            "grid_column": null,
            "grid_gap": null,
            "grid_row": null,
            "grid_template_areas": null,
            "grid_template_columns": null,
            "grid_template_rows": null,
            "height": null,
            "justify_content": null,
            "justify_items": null,
            "left": null,
            "margin": null,
            "max_height": null,
            "max_width": null,
            "min_height": null,
            "min_width": null,
            "object_fit": null,
            "object_position": null,
            "order": null,
            "overflow": null,
            "overflow_x": null,
            "overflow_y": null,
            "padding": null,
            "right": null,
            "top": null,
            "visibility": null,
            "width": null
          }
        },
        "0eeb44b8adb8476e956f5fc629d52f16": {
          "model_module": "@jupyter-widgets/controls",
          "model_name": "ProgressStyleModel",
          "model_module_version": "1.5.0",
          "state": {
            "_model_module": "@jupyter-widgets/controls",
            "_model_module_version": "1.5.0",
            "_model_name": "ProgressStyleModel",
            "_view_count": null,
            "_view_module": "@jupyter-widgets/base",
            "_view_module_version": "1.2.0",
            "_view_name": "StyleView",
            "bar_color": null,
            "description_width": ""
          }
        },
        "704d7082ad42473db58c490785e8ab3b": {
          "model_module": "@jupyter-widgets/base",
          "model_name": "LayoutModel",
          "model_module_version": "1.2.0",
          "state": {
            "_model_module": "@jupyter-widgets/base",
            "_model_module_version": "1.2.0",
            "_model_name": "LayoutModel",
            "_view_count": null,
            "_view_module": "@jupyter-widgets/base",
            "_view_module_version": "1.2.0",
            "_view_name": "LayoutView",
            "align_content": null,
            "align_items": null,
            "align_self": null,
            "border": null,
            "bottom": null,
            "display": null,
            "flex": null,
            "flex_flow": null,
            "grid_area": null,
            "grid_auto_columns": null,
            "grid_auto_flow": null,
            "grid_auto_rows": null,
            "grid_column": null,
            "grid_gap": null,
            "grid_row": null,
            "grid_template_areas": null,
            "grid_template_columns": null,
            "grid_template_rows": null,
            "height": null,
            "justify_content": null,
            "justify_items": null,
            "left": null,
            "margin": null,
            "max_height": null,
            "max_width": null,
            "min_height": null,
            "min_width": null,
            "object_fit": null,
            "object_position": null,
            "order": null,
            "overflow": null,
            "overflow_x": null,
            "overflow_y": null,
            "padding": null,
            "right": null,
            "top": null,
            "visibility": null,
            "width": null
          }
        },
        "bc6b162f6e1c441a8f5383f3804b0f74": {
          "model_module": "@jupyter-widgets/controls",
          "model_name": "DescriptionStyleModel",
          "model_module_version": "1.5.0",
          "state": {
            "_model_module": "@jupyter-widgets/controls",
            "_model_module_version": "1.5.0",
            "_model_name": "DescriptionStyleModel",
            "_view_count": null,
            "_view_module": "@jupyter-widgets/base",
            "_view_module_version": "1.2.0",
            "_view_name": "StyleView",
            "description_width": ""
          }
        },
        "1ddff34dabff40ca9c378299f3b479d5": {
          "model_module": "@jupyter-widgets/controls",
          "model_name": "HBoxModel",
          "model_module_version": "1.5.0",
          "state": {
            "_dom_classes": [],
            "_model_module": "@jupyter-widgets/controls",
            "_model_module_version": "1.5.0",
            "_model_name": "HBoxModel",
            "_view_count": null,
            "_view_module": "@jupyter-widgets/controls",
            "_view_module_version": "1.5.0",
            "_view_name": "HBoxView",
            "box_style": "",
            "children": [
              "IPY_MODEL_35914ea0d551428fba3654fba89506ff",
              "IPY_MODEL_a517887c8db64148af748dd3ee42fb31",
              "IPY_MODEL_d0dcd3c07f474d1db43fdd378c4d2ea5"
            ],
            "layout": "IPY_MODEL_2a54b840d90f4273953628600731d5e4"
          }
        },
        "35914ea0d551428fba3654fba89506ff": {
          "model_module": "@jupyter-widgets/controls",
          "model_name": "HTMLModel",
          "model_module_version": "1.5.0",
          "state": {
            "_dom_classes": [],
            "_model_module": "@jupyter-widgets/controls",
            "_model_module_version": "1.5.0",
            "_model_name": "HTMLModel",
            "_view_count": null,
            "_view_module": "@jupyter-widgets/controls",
            "_view_module_version": "1.5.0",
            "_view_name": "HTMLView",
            "description": "",
            "description_tooltip": null,
            "layout": "IPY_MODEL_4ecd76a18c6149219874ad2c811b73c6",
            "placeholder": "​",
            "style": "IPY_MODEL_98839cbe0d1748029a0d54d0f3a1ecb8",
            "value": "Downloading data: 100%"
          }
        },
        "a517887c8db64148af748dd3ee42fb31": {
          "model_module": "@jupyter-widgets/controls",
          "model_name": "FloatProgressModel",
          "model_module_version": "1.5.0",
          "state": {
            "_dom_classes": [],
            "_model_module": "@jupyter-widgets/controls",
            "_model_module_version": "1.5.0",
            "_model_name": "FloatProgressModel",
            "_view_count": null,
            "_view_module": "@jupyter-widgets/controls",
            "_view_module_version": "1.5.0",
            "_view_name": "ProgressView",
            "bar_style": "success",
            "description": "",
            "description_tooltip": null,
            "layout": "IPY_MODEL_96b33ab4515148c9bfe78a5c2601479c",
            "max": 2595890,
            "min": 0,
            "orientation": "horizontal",
            "style": "IPY_MODEL_c1378123f37941999d885d273f098cb0",
            "value": 2595890
          }
        },
        "d0dcd3c07f474d1db43fdd378c4d2ea5": {
          "model_module": "@jupyter-widgets/controls",
          "model_name": "HTMLModel",
          "model_module_version": "1.5.0",
          "state": {
            "_dom_classes": [],
            "_model_module": "@jupyter-widgets/controls",
            "_model_module_version": "1.5.0",
            "_model_name": "HTMLModel",
            "_view_count": null,
            "_view_module": "@jupyter-widgets/controls",
            "_view_module_version": "1.5.0",
            "_view_name": "HTMLView",
            "description": "",
            "description_tooltip": null,
            "layout": "IPY_MODEL_a7dd7cf9a1fb4a9f922e94c055a1a04c",
            "placeholder": "​",
            "style": "IPY_MODEL_daec8e3066a843fd86b7f3253a54ac3c",
            "value": " 2.60M/2.60M [00:02&lt;00:00, 1.12MB/s]"
          }
        },
        "2a54b840d90f4273953628600731d5e4": {
          "model_module": "@jupyter-widgets/base",
          "model_name": "LayoutModel",
          "model_module_version": "1.2.0",
          "state": {
            "_model_module": "@jupyter-widgets/base",
            "_model_module_version": "1.2.0",
            "_model_name": "LayoutModel",
            "_view_count": null,
            "_view_module": "@jupyter-widgets/base",
            "_view_module_version": "1.2.0",
            "_view_name": "LayoutView",
            "align_content": null,
            "align_items": null,
            "align_self": null,
            "border": null,
            "bottom": null,
            "display": null,
            "flex": null,
            "flex_flow": null,
            "grid_area": null,
            "grid_auto_columns": null,
            "grid_auto_flow": null,
            "grid_auto_rows": null,
            "grid_column": null,
            "grid_gap": null,
            "grid_row": null,
            "grid_template_areas": null,
            "grid_template_columns": null,
            "grid_template_rows": null,
            "height": null,
            "justify_content": null,
            "justify_items": null,
            "left": null,
            "margin": null,
            "max_height": null,
            "max_width": null,
            "min_height": null,
            "min_width": null,
            "object_fit": null,
            "object_position": null,
            "order": null,
            "overflow": null,
            "overflow_x": null,
            "overflow_y": null,
            "padding": null,
            "right": null,
            "top": null,
            "visibility": null,
            "width": null
          }
        },
        "4ecd76a18c6149219874ad2c811b73c6": {
          "model_module": "@jupyter-widgets/base",
          "model_name": "LayoutModel",
          "model_module_version": "1.2.0",
          "state": {
            "_model_module": "@jupyter-widgets/base",
            "_model_module_version": "1.2.0",
            "_model_name": "LayoutModel",
            "_view_count": null,
            "_view_module": "@jupyter-widgets/base",
            "_view_module_version": "1.2.0",
            "_view_name": "LayoutView",
            "align_content": null,
            "align_items": null,
            "align_self": null,
            "border": null,
            "bottom": null,
            "display": null,
            "flex": null,
            "flex_flow": null,
            "grid_area": null,
            "grid_auto_columns": null,
            "grid_auto_flow": null,
            "grid_auto_rows": null,
            "grid_column": null,
            "grid_gap": null,
            "grid_row": null,
            "grid_template_areas": null,
            "grid_template_columns": null,
            "grid_template_rows": null,
            "height": null,
            "justify_content": null,
            "justify_items": null,
            "left": null,
            "margin": null,
            "max_height": null,
            "max_width": null,
            "min_height": null,
            "min_width": null,
            "object_fit": null,
            "object_position": null,
            "order": null,
            "overflow": null,
            "overflow_x": null,
            "overflow_y": null,
            "padding": null,
            "right": null,
            "top": null,
            "visibility": null,
            "width": null
          }
        },
        "98839cbe0d1748029a0d54d0f3a1ecb8": {
          "model_module": "@jupyter-widgets/controls",
          "model_name": "DescriptionStyleModel",
          "model_module_version": "1.5.0",
          "state": {
            "_model_module": "@jupyter-widgets/controls",
            "_model_module_version": "1.5.0",
            "_model_name": "DescriptionStyleModel",
            "_view_count": null,
            "_view_module": "@jupyter-widgets/base",
            "_view_module_version": "1.2.0",
            "_view_name": "StyleView",
            "description_width": ""
          }
        },
        "96b33ab4515148c9bfe78a5c2601479c": {
          "model_module": "@jupyter-widgets/base",
          "model_name": "LayoutModel",
          "model_module_version": "1.2.0",
          "state": {
            "_model_module": "@jupyter-widgets/base",
            "_model_module_version": "1.2.0",
            "_model_name": "LayoutModel",
            "_view_count": null,
            "_view_module": "@jupyter-widgets/base",
            "_view_module_version": "1.2.0",
            "_view_name": "LayoutView",
            "align_content": null,
            "align_items": null,
            "align_self": null,
            "border": null,
            "bottom": null,
            "display": null,
            "flex": null,
            "flex_flow": null,
            "grid_area": null,
            "grid_auto_columns": null,
            "grid_auto_flow": null,
            "grid_auto_rows": null,
            "grid_column": null,
            "grid_gap": null,
            "grid_row": null,
            "grid_template_areas": null,
            "grid_template_columns": null,
            "grid_template_rows": null,
            "height": null,
            "justify_content": null,
            "justify_items": null,
            "left": null,
            "margin": null,
            "max_height": null,
            "max_width": null,
            "min_height": null,
            "min_width": null,
            "object_fit": null,
            "object_position": null,
            "order": null,
            "overflow": null,
            "overflow_x": null,
            "overflow_y": null,
            "padding": null,
            "right": null,
            "top": null,
            "visibility": null,
            "width": null
          }
        },
        "c1378123f37941999d885d273f098cb0": {
          "model_module": "@jupyter-widgets/controls",
          "model_name": "ProgressStyleModel",
          "model_module_version": "1.5.0",
          "state": {
            "_model_module": "@jupyter-widgets/controls",
            "_model_module_version": "1.5.0",
            "_model_name": "ProgressStyleModel",
            "_view_count": null,
            "_view_module": "@jupyter-widgets/base",
            "_view_module_version": "1.2.0",
            "_view_name": "StyleView",
            "bar_color": null,
            "description_width": ""
          }
        },
        "a7dd7cf9a1fb4a9f922e94c055a1a04c": {
          "model_module": "@jupyter-widgets/base",
          "model_name": "LayoutModel",
          "model_module_version": "1.2.0",
          "state": {
            "_model_module": "@jupyter-widgets/base",
            "_model_module_version": "1.2.0",
            "_model_name": "LayoutModel",
            "_view_count": null,
            "_view_module": "@jupyter-widgets/base",
            "_view_module_version": "1.2.0",
            "_view_name": "LayoutView",
            "align_content": null,
            "align_items": null,
            "align_self": null,
            "border": null,
            "bottom": null,
            "display": null,
            "flex": null,
            "flex_flow": null,
            "grid_area": null,
            "grid_auto_columns": null,
            "grid_auto_flow": null,
            "grid_auto_rows": null,
            "grid_column": null,
            "grid_gap": null,
            "grid_row": null,
            "grid_template_areas": null,
            "grid_template_columns": null,
            "grid_template_rows": null,
            "height": null,
            "justify_content": null,
            "justify_items": null,
            "left": null,
            "margin": null,
            "max_height": null,
            "max_width": null,
            "min_height": null,
            "min_width": null,
            "object_fit": null,
            "object_position": null,
            "order": null,
            "overflow": null,
            "overflow_x": null,
            "overflow_y": null,
            "padding": null,
            "right": null,
            "top": null,
            "visibility": null,
            "width": null
          }
        },
        "daec8e3066a843fd86b7f3253a54ac3c": {
          "model_module": "@jupyter-widgets/controls",
          "model_name": "DescriptionStyleModel",
          "model_module_version": "1.5.0",
          "state": {
            "_model_module": "@jupyter-widgets/controls",
            "_model_module_version": "1.5.0",
            "_model_name": "DescriptionStyleModel",
            "_view_count": null,
            "_view_module": "@jupyter-widgets/base",
            "_view_module_version": "1.2.0",
            "_view_name": "StyleView",
            "description_width": ""
          }
        },
        "772a22431e93441aa17820b5a2f330c5": {
          "model_module": "@jupyter-widgets/controls",
          "model_name": "HBoxModel",
          "model_module_version": "1.5.0",
          "state": {
            "_dom_classes": [],
            "_model_module": "@jupyter-widgets/controls",
            "_model_module_version": "1.5.0",
            "_model_name": "HBoxModel",
            "_view_count": null,
            "_view_module": "@jupyter-widgets/controls",
            "_view_module_version": "1.5.0",
            "_view_name": "HBoxView",
            "box_style": "",
            "children": [
              "IPY_MODEL_58031f8ea76b470d8072e855c2ad7026",
              "IPY_MODEL_37982d1285954b58abe2d73c91f79c07",
              "IPY_MODEL_be5e163f348247c7b39f86972c753a6c"
            ],
            "layout": "IPY_MODEL_23a3bcd4449643f6a604bb758542c538"
          }
        },
        "58031f8ea76b470d8072e855c2ad7026": {
          "model_module": "@jupyter-widgets/controls",
          "model_name": "HTMLModel",
          "model_module_version": "1.5.0",
          "state": {
            "_dom_classes": [],
            "_model_module": "@jupyter-widgets/controls",
            "_model_module_version": "1.5.0",
            "_model_name": "HTMLModel",
            "_view_count": null,
            "_view_module": "@jupyter-widgets/controls",
            "_view_module_version": "1.5.0",
            "_view_name": "HTMLView",
            "description": "",
            "description_tooltip": null,
            "layout": "IPY_MODEL_714922f74c2c43e4b0efb2d8454e9958",
            "placeholder": "​",
            "style": "IPY_MODEL_086647305a03403488345c3b5c9f5bcb",
            "value": "Generating train split: "
          }
        },
        "37982d1285954b58abe2d73c91f79c07": {
          "model_module": "@jupyter-widgets/controls",
          "model_name": "FloatProgressModel",
          "model_module_version": "1.5.0",
          "state": {
            "_dom_classes": [],
            "_model_module": "@jupyter-widgets/controls",
            "_model_module_version": "1.5.0",
            "_model_name": "FloatProgressModel",
            "_view_count": null,
            "_view_module": "@jupyter-widgets/controls",
            "_view_module_version": "1.5.0",
            "_view_name": "ProgressView",
            "bar_style": "success",
            "description": "",
            "description_tooltip": null,
            "layout": "IPY_MODEL_24800a4dcba645d6bb9b098ae54e8111",
            "max": 1,
            "min": 0,
            "orientation": "horizontal",
            "style": "IPY_MODEL_45c8cdf4620341008645726ca0c3b72c",
            "value": 1
          }
        },
        "be5e163f348247c7b39f86972c753a6c": {
          "model_module": "@jupyter-widgets/controls",
          "model_name": "HTMLModel",
          "model_module_version": "1.5.0",
          "state": {
            "_dom_classes": [],
            "_model_module": "@jupyter-widgets/controls",
            "_model_module_version": "1.5.0",
            "_model_name": "HTMLModel",
            "_view_count": null,
            "_view_module": "@jupyter-widgets/controls",
            "_view_module_version": "1.5.0",
            "_view_name": "HTMLView",
            "description": "",
            "description_tooltip": null,
            "layout": "IPY_MODEL_58a26fc20e7e47debf36aaeb3adbaf1f",
            "placeholder": "​",
            "style": "IPY_MODEL_f1f7c2e5bed64ed3933c39643aa2911a",
            "value": " 60000/0 [00:00&lt;00:00, 437978.80 examples/s]"
          }
        },
        "23a3bcd4449643f6a604bb758542c538": {
          "model_module": "@jupyter-widgets/base",
          "model_name": "LayoutModel",
          "model_module_version": "1.2.0",
          "state": {
            "_model_module": "@jupyter-widgets/base",
            "_model_module_version": "1.2.0",
            "_model_name": "LayoutModel",
            "_view_count": null,
            "_view_module": "@jupyter-widgets/base",
            "_view_module_version": "1.2.0",
            "_view_name": "LayoutView",
            "align_content": null,
            "align_items": null,
            "align_self": null,
            "border": null,
            "bottom": null,
            "display": null,
            "flex": null,
            "flex_flow": null,
            "grid_area": null,
            "grid_auto_columns": null,
            "grid_auto_flow": null,
            "grid_auto_rows": null,
            "grid_column": null,
            "grid_gap": null,
            "grid_row": null,
            "grid_template_areas": null,
            "grid_template_columns": null,
            "grid_template_rows": null,
            "height": null,
            "justify_content": null,
            "justify_items": null,
            "left": null,
            "margin": null,
            "max_height": null,
            "max_width": null,
            "min_height": null,
            "min_width": null,
            "object_fit": null,
            "object_position": null,
            "order": null,
            "overflow": null,
            "overflow_x": null,
            "overflow_y": null,
            "padding": null,
            "right": null,
            "top": null,
            "visibility": null,
            "width": null
          }
        },
        "714922f74c2c43e4b0efb2d8454e9958": {
          "model_module": "@jupyter-widgets/base",
          "model_name": "LayoutModel",
          "model_module_version": "1.2.0",
          "state": {
            "_model_module": "@jupyter-widgets/base",
            "_model_module_version": "1.2.0",
            "_model_name": "LayoutModel",
            "_view_count": null,
            "_view_module": "@jupyter-widgets/base",
            "_view_module_version": "1.2.0",
            "_view_name": "LayoutView",
            "align_content": null,
            "align_items": null,
            "align_self": null,
            "border": null,
            "bottom": null,
            "display": null,
            "flex": null,
            "flex_flow": null,
            "grid_area": null,
            "grid_auto_columns": null,
            "grid_auto_flow": null,
            "grid_auto_rows": null,
            "grid_column": null,
            "grid_gap": null,
            "grid_row": null,
            "grid_template_areas": null,
            "grid_template_columns": null,
            "grid_template_rows": null,
            "height": null,
            "justify_content": null,
            "justify_items": null,
            "left": null,
            "margin": null,
            "max_height": null,
            "max_width": null,
            "min_height": null,
            "min_width": null,
            "object_fit": null,
            "object_position": null,
            "order": null,
            "overflow": null,
            "overflow_x": null,
            "overflow_y": null,
            "padding": null,
            "right": null,
            "top": null,
            "visibility": null,
            "width": null
          }
        },
        "086647305a03403488345c3b5c9f5bcb": {
          "model_module": "@jupyter-widgets/controls",
          "model_name": "DescriptionStyleModel",
          "model_module_version": "1.5.0",
          "state": {
            "_model_module": "@jupyter-widgets/controls",
            "_model_module_version": "1.5.0",
            "_model_name": "DescriptionStyleModel",
            "_view_count": null,
            "_view_module": "@jupyter-widgets/base",
            "_view_module_version": "1.2.0",
            "_view_name": "StyleView",
            "description_width": ""
          }
        },
        "24800a4dcba645d6bb9b098ae54e8111": {
          "model_module": "@jupyter-widgets/base",
          "model_name": "LayoutModel",
          "model_module_version": "1.2.0",
          "state": {
            "_model_module": "@jupyter-widgets/base",
            "_model_module_version": "1.2.0",
            "_model_name": "LayoutModel",
            "_view_count": null,
            "_view_module": "@jupyter-widgets/base",
            "_view_module_version": "1.2.0",
            "_view_name": "LayoutView",
            "align_content": null,
            "align_items": null,
            "align_self": null,
            "border": null,
            "bottom": null,
            "display": null,
            "flex": null,
            "flex_flow": null,
            "grid_area": null,
            "grid_auto_columns": null,
            "grid_auto_flow": null,
            "grid_auto_rows": null,
            "grid_column": null,
            "grid_gap": null,
            "grid_row": null,
            "grid_template_areas": null,
            "grid_template_columns": null,
            "grid_template_rows": null,
            "height": null,
            "justify_content": null,
            "justify_items": null,
            "left": null,
            "margin": null,
            "max_height": null,
            "max_width": null,
            "min_height": null,
            "min_width": null,
            "object_fit": null,
            "object_position": null,
            "order": null,
            "overflow": null,
            "overflow_x": null,
            "overflow_y": null,
            "padding": null,
            "right": null,
            "top": null,
            "visibility": null,
            "width": "20px"
          }
        },
        "45c8cdf4620341008645726ca0c3b72c": {
          "model_module": "@jupyter-widgets/controls",
          "model_name": "ProgressStyleModel",
          "model_module_version": "1.5.0",
          "state": {
            "_model_module": "@jupyter-widgets/controls",
            "_model_module_version": "1.5.0",
            "_model_name": "ProgressStyleModel",
            "_view_count": null,
            "_view_module": "@jupyter-widgets/base",
            "_view_module_version": "1.2.0",
            "_view_name": "StyleView",
            "bar_color": null,
            "description_width": ""
          }
        },
        "58a26fc20e7e47debf36aaeb3adbaf1f": {
          "model_module": "@jupyter-widgets/base",
          "model_name": "LayoutModel",
          "model_module_version": "1.2.0",
          "state": {
            "_model_module": "@jupyter-widgets/base",
            "_model_module_version": "1.2.0",
            "_model_name": "LayoutModel",
            "_view_count": null,
            "_view_module": "@jupyter-widgets/base",
            "_view_module_version": "1.2.0",
            "_view_name": "LayoutView",
            "align_content": null,
            "align_items": null,
            "align_self": null,
            "border": null,
            "bottom": null,
            "display": null,
            "flex": null,
            "flex_flow": null,
            "grid_area": null,
            "grid_auto_columns": null,
            "grid_auto_flow": null,
            "grid_auto_rows": null,
            "grid_column": null,
            "grid_gap": null,
            "grid_row": null,
            "grid_template_areas": null,
            "grid_template_columns": null,
            "grid_template_rows": null,
            "height": null,
            "justify_content": null,
            "justify_items": null,
            "left": null,
            "margin": null,
            "max_height": null,
            "max_width": null,
            "min_height": null,
            "min_width": null,
            "object_fit": null,
            "object_position": null,
            "order": null,
            "overflow": null,
            "overflow_x": null,
            "overflow_y": null,
            "padding": null,
            "right": null,
            "top": null,
            "visibility": null,
            "width": null
          }
        },
        "f1f7c2e5bed64ed3933c39643aa2911a": {
          "model_module": "@jupyter-widgets/controls",
          "model_name": "DescriptionStyleModel",
          "model_module_version": "1.5.0",
          "state": {
            "_model_module": "@jupyter-widgets/controls",
            "_model_module_version": "1.5.0",
            "_model_name": "DescriptionStyleModel",
            "_view_count": null,
            "_view_module": "@jupyter-widgets/base",
            "_view_module_version": "1.2.0",
            "_view_name": "StyleView",
            "description_width": ""
          }
        },
        "ed3f25d2bd3f4cc7b348db5000501066": {
          "model_module": "@jupyter-widgets/controls",
          "model_name": "HBoxModel",
          "model_module_version": "1.5.0",
          "state": {
            "_dom_classes": [],
            "_model_module": "@jupyter-widgets/controls",
            "_model_module_version": "1.5.0",
            "_model_name": "HBoxModel",
            "_view_count": null,
            "_view_module": "@jupyter-widgets/controls",
            "_view_module_version": "1.5.0",
            "_view_name": "HBoxView",
            "box_style": "",
            "children": [
              "IPY_MODEL_bf099784b2b04b0f9ec1794efb61652f",
              "IPY_MODEL_acffd1fbfd824e8986582a7f46cbdec0",
              "IPY_MODEL_ead3ad52c6294cc796b8c446341c06af"
            ],
            "layout": "IPY_MODEL_6e631412f7be4fb6b28f65a67016bc0b"
          }
        },
        "bf099784b2b04b0f9ec1794efb61652f": {
          "model_module": "@jupyter-widgets/controls",
          "model_name": "HTMLModel",
          "model_module_version": "1.5.0",
          "state": {
            "_dom_classes": [],
            "_model_module": "@jupyter-widgets/controls",
            "_model_module_version": "1.5.0",
            "_model_name": "HTMLModel",
            "_view_count": null,
            "_view_module": "@jupyter-widgets/controls",
            "_view_module_version": "1.5.0",
            "_view_name": "HTMLView",
            "description": "",
            "description_tooltip": null,
            "layout": "IPY_MODEL_5e3d342f8bd74409b87a5f647d486ee5",
            "placeholder": "​",
            "style": "IPY_MODEL_3726285ff4ba4f279c07583251265cfd",
            "value": "Generating test split: "
          }
        },
        "acffd1fbfd824e8986582a7f46cbdec0": {
          "model_module": "@jupyter-widgets/controls",
          "model_name": "FloatProgressModel",
          "model_module_version": "1.5.0",
          "state": {
            "_dom_classes": [],
            "_model_module": "@jupyter-widgets/controls",
            "_model_module_version": "1.5.0",
            "_model_name": "FloatProgressModel",
            "_view_count": null,
            "_view_module": "@jupyter-widgets/controls",
            "_view_module_version": "1.5.0",
            "_view_name": "ProgressView",
            "bar_style": "success",
            "description": "",
            "description_tooltip": null,
            "layout": "IPY_MODEL_cb098d22222e49aa8c70268df4635d43",
            "max": 1,
            "min": 0,
            "orientation": "horizontal",
            "style": "IPY_MODEL_bd8ec8d5de3342799d468df73c45a0c9",
            "value": 1
          }
        },
        "ead3ad52c6294cc796b8c446341c06af": {
          "model_module": "@jupyter-widgets/controls",
          "model_name": "HTMLModel",
          "model_module_version": "1.5.0",
          "state": {
            "_dom_classes": [],
            "_model_module": "@jupyter-widgets/controls",
            "_model_module_version": "1.5.0",
            "_model_name": "HTMLModel",
            "_view_count": null,
            "_view_module": "@jupyter-widgets/controls",
            "_view_module_version": "1.5.0",
            "_view_name": "HTMLView",
            "description": "",
            "description_tooltip": null,
            "layout": "IPY_MODEL_1a62d3202f2c43ce89206969be523243",
            "placeholder": "​",
            "style": "IPY_MODEL_b26108c6621148969f92318ba6508fed",
            "value": " 10000/0 [00:00&lt;00:00, 214000.56 examples/s]"
          }
        },
        "6e631412f7be4fb6b28f65a67016bc0b": {
          "model_module": "@jupyter-widgets/base",
          "model_name": "LayoutModel",
          "model_module_version": "1.2.0",
          "state": {
            "_model_module": "@jupyter-widgets/base",
            "_model_module_version": "1.2.0",
            "_model_name": "LayoutModel",
            "_view_count": null,
            "_view_module": "@jupyter-widgets/base",
            "_view_module_version": "1.2.0",
            "_view_name": "LayoutView",
            "align_content": null,
            "align_items": null,
            "align_self": null,
            "border": null,
            "bottom": null,
            "display": null,
            "flex": null,
            "flex_flow": null,
            "grid_area": null,
            "grid_auto_columns": null,
            "grid_auto_flow": null,
            "grid_auto_rows": null,
            "grid_column": null,
            "grid_gap": null,
            "grid_row": null,
            "grid_template_areas": null,
            "grid_template_columns": null,
            "grid_template_rows": null,
            "height": null,
            "justify_content": null,
            "justify_items": null,
            "left": null,
            "margin": null,
            "max_height": null,
            "max_width": null,
            "min_height": null,
            "min_width": null,
            "object_fit": null,
            "object_position": null,
            "order": null,
            "overflow": null,
            "overflow_x": null,
            "overflow_y": null,
            "padding": null,
            "right": null,
            "top": null,
            "visibility": null,
            "width": null
          }
        },
        "5e3d342f8bd74409b87a5f647d486ee5": {
          "model_module": "@jupyter-widgets/base",
          "model_name": "LayoutModel",
          "model_module_version": "1.2.0",
          "state": {
            "_model_module": "@jupyter-widgets/base",
            "_model_module_version": "1.2.0",
            "_model_name": "LayoutModel",
            "_view_count": null,
            "_view_module": "@jupyter-widgets/base",
            "_view_module_version": "1.2.0",
            "_view_name": "LayoutView",
            "align_content": null,
            "align_items": null,
            "align_self": null,
            "border": null,
            "bottom": null,
            "display": null,
            "flex": null,
            "flex_flow": null,
            "grid_area": null,
            "grid_auto_columns": null,
            "grid_auto_flow": null,
            "grid_auto_rows": null,
            "grid_column": null,
            "grid_gap": null,
            "grid_row": null,
            "grid_template_areas": null,
            "grid_template_columns": null,
            "grid_template_rows": null,
            "height": null,
            "justify_content": null,
            "justify_items": null,
            "left": null,
            "margin": null,
            "max_height": null,
            "max_width": null,
            "min_height": null,
            "min_width": null,
            "object_fit": null,
            "object_position": null,
            "order": null,
            "overflow": null,
            "overflow_x": null,
            "overflow_y": null,
            "padding": null,
            "right": null,
            "top": null,
            "visibility": null,
            "width": null
          }
        },
        "3726285ff4ba4f279c07583251265cfd": {
          "model_module": "@jupyter-widgets/controls",
          "model_name": "DescriptionStyleModel",
          "model_module_version": "1.5.0",
          "state": {
            "_model_module": "@jupyter-widgets/controls",
            "_model_module_version": "1.5.0",
            "_model_name": "DescriptionStyleModel",
            "_view_count": null,
            "_view_module": "@jupyter-widgets/base",
            "_view_module_version": "1.2.0",
            "_view_name": "StyleView",
            "description_width": ""
          }
        },
        "cb098d22222e49aa8c70268df4635d43": {
          "model_module": "@jupyter-widgets/base",
          "model_name": "LayoutModel",
          "model_module_version": "1.2.0",
          "state": {
            "_model_module": "@jupyter-widgets/base",
            "_model_module_version": "1.2.0",
            "_model_name": "LayoutModel",
            "_view_count": null,
            "_view_module": "@jupyter-widgets/base",
            "_view_module_version": "1.2.0",
            "_view_name": "LayoutView",
            "align_content": null,
            "align_items": null,
            "align_self": null,
            "border": null,
            "bottom": null,
            "display": null,
            "flex": null,
            "flex_flow": null,
            "grid_area": null,
            "grid_auto_columns": null,
            "grid_auto_flow": null,
            "grid_auto_rows": null,
            "grid_column": null,
            "grid_gap": null,
            "grid_row": null,
            "grid_template_areas": null,
            "grid_template_columns": null,
            "grid_template_rows": null,
            "height": null,
            "justify_content": null,
            "justify_items": null,
            "left": null,
            "margin": null,
            "max_height": null,
            "max_width": null,
            "min_height": null,
            "min_width": null,
            "object_fit": null,
            "object_position": null,
            "order": null,
            "overflow": null,
            "overflow_x": null,
            "overflow_y": null,
            "padding": null,
            "right": null,
            "top": null,
            "visibility": null,
            "width": "20px"
          }
        },
        "bd8ec8d5de3342799d468df73c45a0c9": {
          "model_module": "@jupyter-widgets/controls",
          "model_name": "ProgressStyleModel",
          "model_module_version": "1.5.0",
          "state": {
            "_model_module": "@jupyter-widgets/controls",
            "_model_module_version": "1.5.0",
            "_model_name": "ProgressStyleModel",
            "_view_count": null,
            "_view_module": "@jupyter-widgets/base",
            "_view_module_version": "1.2.0",
            "_view_name": "StyleView",
            "bar_color": null,
            "description_width": ""
          }
        },
        "1a62d3202f2c43ce89206969be523243": {
          "model_module": "@jupyter-widgets/base",
          "model_name": "LayoutModel",
          "model_module_version": "1.2.0",
          "state": {
            "_model_module": "@jupyter-widgets/base",
            "_model_module_version": "1.2.0",
            "_model_name": "LayoutModel",
            "_view_count": null,
            "_view_module": "@jupyter-widgets/base",
            "_view_module_version": "1.2.0",
            "_view_name": "LayoutView",
            "align_content": null,
            "align_items": null,
            "align_self": null,
            "border": null,
            "bottom": null,
            "display": null,
            "flex": null,
            "flex_flow": null,
            "grid_area": null,
            "grid_auto_columns": null,
            "grid_auto_flow": null,
            "grid_auto_rows": null,
            "grid_column": null,
            "grid_gap": null,
            "grid_row": null,
            "grid_template_areas": null,
            "grid_template_columns": null,
            "grid_template_rows": null,
            "height": null,
            "justify_content": null,
            "justify_items": null,
            "left": null,
            "margin": null,
            "max_height": null,
            "max_width": null,
            "min_height": null,
            "min_width": null,
            "object_fit": null,
            "object_position": null,
            "order": null,
            "overflow": null,
            "overflow_x": null,
            "overflow_y": null,
            "padding": null,
            "right": null,
            "top": null,
            "visibility": null,
            "width": null
          }
        },
        "b26108c6621148969f92318ba6508fed": {
          "model_module": "@jupyter-widgets/controls",
          "model_name": "DescriptionStyleModel",
          "model_module_version": "1.5.0",
          "state": {
            "_model_module": "@jupyter-widgets/controls",
            "_model_module_version": "1.5.0",
            "_model_name": "DescriptionStyleModel",
            "_view_count": null,
            "_view_module": "@jupyter-widgets/base",
            "_view_module_version": "1.2.0",
            "_view_name": "StyleView",
            "description_width": ""
          }
        },
        "c7ab94c0bae24479938e2b7009fe5f48": {
          "model_module": "@jupyter-widgets/controls",
          "model_name": "HBoxModel",
          "model_module_version": "1.5.0",
          "state": {
            "_dom_classes": [],
            "_model_module": "@jupyter-widgets/controls",
            "_model_module_version": "1.5.0",
            "_model_name": "HBoxModel",
            "_view_count": null,
            "_view_module": "@jupyter-widgets/controls",
            "_view_module_version": "1.5.0",
            "_view_name": "HBoxView",
            "box_style": "",
            "children": [
              "IPY_MODEL_88ad3f64d3ec448b803455eb3fcf8756",
              "IPY_MODEL_b48ab66cf8ca452abafda0615de281af",
              "IPY_MODEL_99b86b5398d544028b5f36343328442d"
            ],
            "layout": "IPY_MODEL_4ecc42af8b1a46209c73b6290bb1977d"
          }
        },
        "88ad3f64d3ec448b803455eb3fcf8756": {
          "model_module": "@jupyter-widgets/controls",
          "model_name": "HTMLModel",
          "model_module_version": "1.5.0",
          "state": {
            "_dom_classes": [],
            "_model_module": "@jupyter-widgets/controls",
            "_model_module_version": "1.5.0",
            "_model_name": "HTMLModel",
            "_view_count": null,
            "_view_module": "@jupyter-widgets/controls",
            "_view_module_version": "1.5.0",
            "_view_name": "HTMLView",
            "description": "",
            "description_tooltip": null,
            "layout": "IPY_MODEL_557dcf08dd494f6fbc2a479a532cacc3",
            "placeholder": "​",
            "style": "IPY_MODEL_9d305c88445b4730aa2ce6e359fb42c0",
            "value": "sampling loop time step: 100%"
          }
        },
        "b48ab66cf8ca452abafda0615de281af": {
          "model_module": "@jupyter-widgets/controls",
          "model_name": "FloatProgressModel",
          "model_module_version": "1.5.0",
          "state": {
            "_dom_classes": [],
            "_model_module": "@jupyter-widgets/controls",
            "_model_module_version": "1.5.0",
            "_model_name": "FloatProgressModel",
            "_view_count": null,
            "_view_module": "@jupyter-widgets/controls",
            "_view_module_version": "1.5.0",
            "_view_name": "ProgressView",
            "bar_style": "success",
            "description": "",
            "description_tooltip": null,
            "layout": "IPY_MODEL_c12c93bcaaa34faca5e29f3efad7a6f4",
            "max": 200,
            "min": 0,
            "orientation": "horizontal",
            "style": "IPY_MODEL_e814d4f051c549ba8fb70bd8ec22c199",
            "value": 200
          }
        },
        "99b86b5398d544028b5f36343328442d": {
          "model_module": "@jupyter-widgets/controls",
          "model_name": "HTMLModel",
          "model_module_version": "1.5.0",
          "state": {
            "_dom_classes": [],
            "_model_module": "@jupyter-widgets/controls",
            "_model_module_version": "1.5.0",
            "_model_name": "HTMLModel",
            "_view_count": null,
            "_view_module": "@jupyter-widgets/controls",
            "_view_module_version": "1.5.0",
            "_view_name": "HTMLView",
            "description": "",
            "description_tooltip": null,
            "layout": "IPY_MODEL_71d77156554044a0a9544c74630e2ecb",
            "placeholder": "​",
            "style": "IPY_MODEL_de82fa052dc44c6a8d3d03059b69bbc9",
            "value": " 200/200 [00:24&lt;00:00,  8.18it/s]"
          }
        },
        "4ecc42af8b1a46209c73b6290bb1977d": {
          "model_module": "@jupyter-widgets/base",
          "model_name": "LayoutModel",
          "model_module_version": "1.2.0",
          "state": {
            "_model_module": "@jupyter-widgets/base",
            "_model_module_version": "1.2.0",
            "_model_name": "LayoutModel",
            "_view_count": null,
            "_view_module": "@jupyter-widgets/base",
            "_view_module_version": "1.2.0",
            "_view_name": "LayoutView",
            "align_content": null,
            "align_items": null,
            "align_self": null,
            "border": null,
            "bottom": null,
            "display": null,
            "flex": null,
            "flex_flow": null,
            "grid_area": null,
            "grid_auto_columns": null,
            "grid_auto_flow": null,
            "grid_auto_rows": null,
            "grid_column": null,
            "grid_gap": null,
            "grid_row": null,
            "grid_template_areas": null,
            "grid_template_columns": null,
            "grid_template_rows": null,
            "height": null,
            "justify_content": null,
            "justify_items": null,
            "left": null,
            "margin": null,
            "max_height": null,
            "max_width": null,
            "min_height": null,
            "min_width": null,
            "object_fit": null,
            "object_position": null,
            "order": null,
            "overflow": null,
            "overflow_x": null,
            "overflow_y": null,
            "padding": null,
            "right": null,
            "top": null,
            "visibility": null,
            "width": null
          }
        },
        "557dcf08dd494f6fbc2a479a532cacc3": {
          "model_module": "@jupyter-widgets/base",
          "model_name": "LayoutModel",
          "model_module_version": "1.2.0",
          "state": {
            "_model_module": "@jupyter-widgets/base",
            "_model_module_version": "1.2.0",
            "_model_name": "LayoutModel",
            "_view_count": null,
            "_view_module": "@jupyter-widgets/base",
            "_view_module_version": "1.2.0",
            "_view_name": "LayoutView",
            "align_content": null,
            "align_items": null,
            "align_self": null,
            "border": null,
            "bottom": null,
            "display": null,
            "flex": null,
            "flex_flow": null,
            "grid_area": null,
            "grid_auto_columns": null,
            "grid_auto_flow": null,
            "grid_auto_rows": null,
            "grid_column": null,
            "grid_gap": null,
            "grid_row": null,
            "grid_template_areas": null,
            "grid_template_columns": null,
            "grid_template_rows": null,
            "height": null,
            "justify_content": null,
            "justify_items": null,
            "left": null,
            "margin": null,
            "max_height": null,
            "max_width": null,
            "min_height": null,
            "min_width": null,
            "object_fit": null,
            "object_position": null,
            "order": null,
            "overflow": null,
            "overflow_x": null,
            "overflow_y": null,
            "padding": null,
            "right": null,
            "top": null,
            "visibility": null,
            "width": null
          }
        },
        "9d305c88445b4730aa2ce6e359fb42c0": {
          "model_module": "@jupyter-widgets/controls",
          "model_name": "DescriptionStyleModel",
          "model_module_version": "1.5.0",
          "state": {
            "_model_module": "@jupyter-widgets/controls",
            "_model_module_version": "1.5.0",
            "_model_name": "DescriptionStyleModel",
            "_view_count": null,
            "_view_module": "@jupyter-widgets/base",
            "_view_module_version": "1.2.0",
            "_view_name": "StyleView",
            "description_width": ""
          }
        },
        "c12c93bcaaa34faca5e29f3efad7a6f4": {
          "model_module": "@jupyter-widgets/base",
          "model_name": "LayoutModel",
          "model_module_version": "1.2.0",
          "state": {
            "_model_module": "@jupyter-widgets/base",
            "_model_module_version": "1.2.0",
            "_model_name": "LayoutModel",
            "_view_count": null,
            "_view_module": "@jupyter-widgets/base",
            "_view_module_version": "1.2.0",
            "_view_name": "LayoutView",
            "align_content": null,
            "align_items": null,
            "align_self": null,
            "border": null,
            "bottom": null,
            "display": null,
            "flex": null,
            "flex_flow": null,
            "grid_area": null,
            "grid_auto_columns": null,
            "grid_auto_flow": null,
            "grid_auto_rows": null,
            "grid_column": null,
            "grid_gap": null,
            "grid_row": null,
            "grid_template_areas": null,
            "grid_template_columns": null,
            "grid_template_rows": null,
            "height": null,
            "justify_content": null,
            "justify_items": null,
            "left": null,
            "margin": null,
            "max_height": null,
            "max_width": null,
            "min_height": null,
            "min_width": null,
            "object_fit": null,
            "object_position": null,
            "order": null,
            "overflow": null,
            "overflow_x": null,
            "overflow_y": null,
            "padding": null,
            "right": null,
            "top": null,
            "visibility": null,
            "width": null
          }
        },
        "e814d4f051c549ba8fb70bd8ec22c199": {
          "model_module": "@jupyter-widgets/controls",
          "model_name": "ProgressStyleModel",
          "model_module_version": "1.5.0",
          "state": {
            "_model_module": "@jupyter-widgets/controls",
            "_model_module_version": "1.5.0",
            "_model_name": "ProgressStyleModel",
            "_view_count": null,
            "_view_module": "@jupyter-widgets/base",
            "_view_module_version": "1.2.0",
            "_view_name": "StyleView",
            "bar_color": null,
            "description_width": ""
          }
        },
        "71d77156554044a0a9544c74630e2ecb": {
          "model_module": "@jupyter-widgets/base",
          "model_name": "LayoutModel",
          "model_module_version": "1.2.0",
          "state": {
            "_model_module": "@jupyter-widgets/base",
            "_model_module_version": "1.2.0",
            "_model_name": "LayoutModel",
            "_view_count": null,
            "_view_module": "@jupyter-widgets/base",
            "_view_module_version": "1.2.0",
            "_view_name": "LayoutView",
            "align_content": null,
            "align_items": null,
            "align_self": null,
            "border": null,
            "bottom": null,
            "display": null,
            "flex": null,
            "flex_flow": null,
            "grid_area": null,
            "grid_auto_columns": null,
            "grid_auto_flow": null,
            "grid_auto_rows": null,
            "grid_column": null,
            "grid_gap": null,
            "grid_row": null,
            "grid_template_areas": null,
            "grid_template_columns": null,
            "grid_template_rows": null,
            "height": null,
            "justify_content": null,
            "justify_items": null,
            "left": null,
            "margin": null,
            "max_height": null,
            "max_width": null,
            "min_height": null,
            "min_width": null,
            "object_fit": null,
            "object_position": null,
            "order": null,
            "overflow": null,
            "overflow_x": null,
            "overflow_y": null,
            "padding": null,
            "right": null,
            "top": null,
            "visibility": null,
            "width": null
          }
        },
        "de82fa052dc44c6a8d3d03059b69bbc9": {
          "model_module": "@jupyter-widgets/controls",
          "model_name": "DescriptionStyleModel",
          "model_module_version": "1.5.0",
          "state": {
            "_model_module": "@jupyter-widgets/controls",
            "_model_module_version": "1.5.0",
            "_model_name": "DescriptionStyleModel",
            "_view_count": null,
            "_view_module": "@jupyter-widgets/base",
            "_view_module_version": "1.2.0",
            "_view_name": "StyleView",
            "description_width": ""
          }
        }
      }
    },
    "accelerator": "GPU"
  },
  "cells": [
    {
      "cell_type": "markdown",
      "source": [
        "### import"
      ],
      "metadata": {
        "id": "nYjgxwmoWaTg"
      }
    },
    {
      "cell_type": "code",
      "source": [
        "!pip install einops"
      ],
      "metadata": {
        "colab": {
          "base_uri": "https://localhost:8080/"
        },
        "id": "j4kG7FYXWtzP",
        "outputId": "c0d50bf9-e5e5-41b2-dbae-4c94108c66e0"
      },
      "execution_count": null,
      "outputs": [
        {
          "output_type": "stream",
          "name": "stdout",
          "text": [
            "Collecting einops\n",
            "  Downloading einops-0.8.0-py3-none-any.whl.metadata (12 kB)\n",
            "Downloading einops-0.8.0-py3-none-any.whl (43 kB)\n",
            "\u001b[?25l   \u001b[90m━━━━━━━━━━━━━━━━━━━━━━━━━━━━━━━━━━━━━━━━\u001b[0m \u001b[32m0.0/43.2 kB\u001b[0m \u001b[31m?\u001b[0m eta \u001b[36m-:--:--\u001b[0m\r\u001b[2K   \u001b[90m━━━━━━━━━━━━━━━━━━━━━━━━━━━━━━━━━━━━━━━━\u001b[0m \u001b[32m43.2/43.2 kB\u001b[0m \u001b[31m3.2 MB/s\u001b[0m eta \u001b[36m0:00:00\u001b[0m\n",
            "\u001b[?25hInstalling collected packages: einops\n",
            "Successfully installed einops-0.8.0\n"
          ]
        }
      ]
    },
    {
      "cell_type": "code",
      "execution_count": null,
      "metadata": {
        "id": "7xLhYKomWLo3"
      },
      "outputs": [],
      "source": [
        "import math\n",
        "import copy\n",
        "from pathlib import Path\n",
        "from random import random\n",
        "from functools import partial\n",
        "from collections import namedtuple\n",
        "from multiprocessing import cpu_count\n",
        "\n",
        "import torch\n",
        "from torch import nn, einsum\n",
        "import torch.nn.functional as F\n",
        "from torch.cuda.amp import autocast\n",
        "\n",
        "from einops import rearrange, reduce, repeat\n",
        "from einops.layers.torch import Rearrange\n",
        "\n",
        "from tqdm.auto import tqdm\n",
        "\n",
        "import matplotlib.pyplot as plt"
      ]
    },
    {
      "cell_type": "markdown",
      "source": [
        "### Tools"
      ],
      "metadata": {
        "id": "-5PKdhXoWdVm"
      }
    },
    {
      "cell_type": "code",
      "source": [
        "ModelPrediction =  namedtuple('ModelPrediction', ['pred_noise', 'pred_x_start'])"
      ],
      "metadata": {
        "id": "lt5XEUigWjPU"
      },
      "execution_count": null,
      "outputs": []
    },
    {
      "cell_type": "code",
      "source": [
        "def exists(x):\n",
        "    return x is not None\n",
        "\n",
        "def default(val, d):\n",
        "    if exists(val):\n",
        "        return val\n",
        "    return d() if callable(d) else d\n",
        "\n",
        "def identity(t, *args, **kwargs):\n",
        "    return t\n",
        "\n",
        "def cycle(dl):\n",
        "    while True:\n",
        "        for data in dl:\n",
        "            yield data\n",
        "\n",
        "def has_int_squareroot(num):\n",
        "    return (math.sqrt(num) ** 2) == num\n",
        "\n",
        "\n",
        "def num_to_groups(num, divisor):\n",
        "    groups = num // divisor\n",
        "    remainder = num % divisor\n",
        "    arr = [divisor] * groups\n",
        "    if remainder > 0:\n",
        "        arr.append(remainder)\n",
        "    return arr\n",
        "\n",
        "def convert_image_to_fn(img_type, image):\n",
        "    if image.mode != img_type:\n",
        "        return image.convert(img_type)\n",
        "    return image\n",
        "\n",
        "# normalization functions\n",
        "\n",
        "def normalize_to_neg_one_to_one(img):\n",
        "    return img * 2 - 1\n",
        "\n",
        "def unnormalize_to_zero_to_one(t):\n",
        "    return (t + 1) * 0.5\n",
        "\n",
        "# classifier free guidance functions\n",
        "\n",
        "def uniform(shape, device):\n",
        "    return torch.zeros(shape, device = device).float().uniform_(0, 1)\n",
        "\n",
        "def prob_mask_like(shape, prob, device):\n",
        "    if prob == 1:\n",
        "        return torch.ones(shape, device = device, dtype = torch.bool)\n",
        "    elif prob == 0:\n",
        "        return torch.zeros(shape, device = device, dtype = torch.bool)\n",
        "    else:\n",
        "        return torch.zeros(shape, device = device).float().uniform_(0, 1) < prob\n",
        "\n",
        "\n",
        "# small helper modules\n",
        "\n",
        "class Residual(nn.Module):\n",
        "    def __init__(self, fn):\n",
        "        super().__init__()\n",
        "        self.fn = fn\n",
        "\n",
        "    def forward(self, x, *args, **kwargs):\n",
        "        return self.fn(x, *args, **kwargs) + x\n",
        "\n",
        "def Upsample(dim, dim_out = None):\n",
        "    return nn.Sequential(\n",
        "        nn.Upsample(scale_factor = 2, mode = 'nearest'),\n",
        "        nn.Conv2d(dim, default(dim_out, dim), 3, padding = 1)\n",
        "    )\n",
        "\n",
        "def Downsample(dim, dim_out = None):\n",
        "    return nn.Conv2d(dim, default(dim_out, dim), 4, 2, 1)\n",
        "\n",
        "\n",
        "class RMSNorm(nn.Module):\n",
        "    def __init__(self, dim):\n",
        "        super().__init__()\n",
        "        self.g = nn.Parameter(torch.ones(1, dim, 1, 1))\n",
        "\n",
        "    def forward(self, x):\n",
        "        return F.normalize(x, dim = 1) * self.g * (x.shape[1] ** 0.5)\n",
        "\n",
        "class PreNorm(nn.Module):\n",
        "    def __init__(self, dim, fn):\n",
        "        super().__init__()\n",
        "        self.fn = fn\n",
        "        self.norm = RMSNorm(dim)\n",
        "\n",
        "    def forward(self, x):\n",
        "        x = self.norm(x)\n",
        "        return self.fn(x)\n",
        "\n",
        "\n",
        "# sinusoidal positional embeds\n",
        "\n",
        "class SinusoidalPosEmb(nn.Module):\n",
        "    def __init__(self, dim):\n",
        "        super().__init__()\n",
        "        self.dim = dim\n",
        "\n",
        "    def forward(self, x):\n",
        "        device = x.device\n",
        "        half_dim = self.dim // 2\n",
        "        emb = math.log(10000) / (half_dim - 1)\n",
        "        emb = torch.exp(torch.arange(half_dim, device=device) * -emb)\n",
        "        emb = x[:, None] * emb[None, :]\n",
        "        emb = torch.cat((emb.sin(), emb.cos()), dim=-1)\n",
        "        return emb\n",
        "\n",
        "class RandomOrLearnedSinusoidalPosEmb(nn.Module):\n",
        "    \"\"\" following @crowsonkb 's lead with random (learned optional) sinusoidal pos emb \"\"\"\n",
        "    \"\"\" https://github.com/crowsonkb/v-diffusion-jax/blob/master/diffusion/models/danbooru_128.py#L8 \"\"\"\n",
        "\n",
        "    def __init__(self, dim, is_random = False):\n",
        "        super().__init__()\n",
        "        assert (dim % 2) == 0\n",
        "        half_dim = dim // 2\n",
        "        self.weights = nn.Parameter(torch.randn(half_dim), requires_grad = not is_random)\n",
        "\n",
        "    def forward(self, x):\n",
        "        x = rearrange(x, 'b -> b 1')\n",
        "        freqs = x * rearrange(self.weights, 'd -> 1 d') * 2 * math.pi\n",
        "        fouriered = torch.cat((freqs.sin(), freqs.cos()), dim = -1)\n",
        "        fouriered = torch.cat((x, fouriered), dim = -1)\n",
        "        return fouriered"
      ],
      "metadata": {
        "id": "FuntyVuwWYug"
      },
      "execution_count": null,
      "outputs": []
    },
    {
      "cell_type": "markdown",
      "source": [
        "### Building block modules"
      ],
      "metadata": {
        "id": "TBinfvsfXisy"
      }
    },
    {
      "cell_type": "code",
      "source": [
        "class Block(nn.Module):\n",
        "    def __init__(self, dim, dim_out, groups = 8):\n",
        "        super().__init__()\n",
        "        self.proj = nn.Conv2d(dim, dim_out, 3, padding = 1)\n",
        "        self.norm = nn.GroupNorm(groups, dim_out)\n",
        "        self.act = nn.SiLU()\n",
        "\n",
        "    def forward(self, x, scale_shift = None):\n",
        "        x = self.proj(x)\n",
        "        x = self.norm(x)\n",
        "\n",
        "        if exists(scale_shift):\n",
        "            scale, shift = scale_shift\n",
        "            x = x * (scale + 1) + shift\n",
        "\n",
        "        x = self.act(x)\n",
        "        return x\n",
        "\n",
        "\n",
        "class ResnetBlock(nn.Module):\n",
        "    def __init__(self, dim, dim_out, *, time_emb_dim = None, classes_emb_dim = None, groups = 8):\n",
        "        super().__init__()\n",
        "        self.mlp = nn.Sequential(\n",
        "            nn.SiLU(),\n",
        "            nn.Linear(int(time_emb_dim) + int(classes_emb_dim), dim_out * 2)\n",
        "        ) if exists(time_emb_dim) or exists(classes_emb_dim) else None\n",
        "\n",
        "        self.block1 = Block(dim, dim_out, groups = groups)\n",
        "        self.block2 = Block(dim_out, dim_out, groups = groups)\n",
        "        self.res_conv = nn.Conv2d(dim, dim_out, 1) if dim != dim_out else nn.Identity()\n",
        "\n",
        "    def forward(self, x, time_emb = None, class_emb = None):\n",
        "\n",
        "        scale_shift = None\n",
        "        if exists(self.mlp) and (exists(time_emb) or exists(class_emb)):\n",
        "            cond_emb = tuple(filter(exists, (time_emb, class_emb)))\n",
        "            cond_emb = torch.cat(cond_emb, dim = -1)\n",
        "            cond_emb = self.mlp(cond_emb)\n",
        "            cond_emb = rearrange(cond_emb, 'b c -> b c 1 1')\n",
        "            scale_shift = cond_emb.chunk(2, dim = 1)\n",
        "\n",
        "        h = self.block1(x, scale_shift = scale_shift)\n",
        "\n",
        "        h = self.block2(h)\n",
        "\n",
        "        return h + self.res_conv(x)\n",
        "\n",
        "\n"
      ],
      "metadata": {
        "id": "KbyYhA_7XgmJ"
      },
      "execution_count": null,
      "outputs": []
    },
    {
      "cell_type": "markdown",
      "source": [
        "### Add attention model in block"
      ],
      "metadata": {
        "id": "42NuiNZGXz8A"
      }
    },
    {
      "cell_type": "code",
      "source": [
        "class LinearAttention(nn.Module):\n",
        "    def __init__(self, dim, heads = 4, dim_head = 32):\n",
        "        super().__init__()\n",
        "        self.scale = dim_head ** -0.5\n",
        "        self.heads = heads\n",
        "        hidden_dim = dim_head * heads\n",
        "        self.to_qkv = nn.Conv2d(dim, hidden_dim * 3, 1, bias = False)\n",
        "\n",
        "        self.to_out = nn.Sequential(\n",
        "            nn.Conv2d(hidden_dim, dim, 1),\n",
        "            RMSNorm(dim)\n",
        "        )\n",
        "\n",
        "    def forward(self, x):\n",
        "        b, c, h, w = x.shape\n",
        "        qkv = self.to_qkv(x).chunk(3, dim = 1)\n",
        "        q, k, v = map(lambda t: rearrange(t, 'b (h c) x y -> b h c (x y)', h = self.heads), qkv)\n",
        "\n",
        "        q = q.softmax(dim = -2)\n",
        "        k = k.softmax(dim = -1)\n",
        "\n",
        "        q = q * self.scale\n",
        "\n",
        "        context = torch.einsum('b h d n, b h e n -> b h d e', k, v)\n",
        "\n",
        "        out = torch.einsum('b h d e, b h d n -> b h e n', context, q)\n",
        "        out = rearrange(out, 'b h c (x y) -> b (h c) x y', h = self.heads, x = h, y = w)\n",
        "        return self.to_out(out)\n",
        "\n",
        "\n",
        "class Attention(nn.Module):\n",
        "    def __init__(self, dim, heads = 4, dim_head = 32):\n",
        "        super().__init__()\n",
        "        self.scale = dim_head ** -0.5\n",
        "        self.heads = heads\n",
        "        hidden_dim = dim_head * heads\n",
        "\n",
        "        self.to_qkv = nn.Conv2d(dim, hidden_dim * 3, 1, bias = False)\n",
        "        self.to_out = nn.Conv2d(hidden_dim, dim, 1)\n",
        "\n",
        "    def forward(self, x):\n",
        "        b, c, h, w = x.shape\n",
        "        qkv = self.to_qkv(x).chunk(3, dim = 1)\n",
        "        q, k, v = map(lambda t: rearrange(t, 'b (h c) x y -> b h c (x y)', h = self.heads), qkv)\n",
        "\n",
        "        q = q * self.scale\n",
        "\n",
        "        sim = einsum('b h d i, b h d j -> b h i j', q, k)\n",
        "        attn = sim.softmax(dim = -1)\n",
        "        out = einsum('b h i j, b h d j -> b h i d', attn, v)\n",
        "\n",
        "        out = rearrange(out, 'b h (x y) d -> b (h d) x y', x = h, y = w)\n",
        "        return self.to_out(out)"
      ],
      "metadata": {
        "id": "majHFOotX7Rs"
      },
      "execution_count": null,
      "outputs": []
    },
    {
      "cell_type": "markdown",
      "source": [
        "### Conditional Unet model"
      ],
      "metadata": {
        "id": "tFjkrzYBYGMb"
      }
    },
    {
      "cell_type": "code",
      "source": [
        "class Unet(nn.Module):\n",
        "    def __init__(\n",
        "        self,\n",
        "        dim,\n",
        "        num_classes,\n",
        "        cond_drop_prob = 0.5,\n",
        "        init_dim = None,\n",
        "        out_dim = None,\n",
        "        dim_mults=(1, 2, 4, 8),\n",
        "        channels = 3,\n",
        "        resnet_block_groups = 8,\n",
        "        learned_variance = False,\n",
        "        learned_sinusoidal_cond = False,\n",
        "        random_fourier_features = False,\n",
        "        learned_sinusoidal_dim = 16,\n",
        "        attn_dim_head = 32,\n",
        "        attn_heads = 4\n",
        "    ):\n",
        "        super().__init__()\n",
        "\n",
        "        # classifier free guidance stuff\n",
        "\n",
        "        self.cond_drop_prob = cond_drop_prob\n",
        "\n",
        "        # determine dimensions\n",
        "\n",
        "        self.channels = channels\n",
        "        input_channels = channels\n",
        "\n",
        "        init_dim = default(init_dim, dim)\n",
        "        self.init_conv = nn.Conv2d(input_channels, init_dim, 7, padding = 3)\n",
        "\n",
        "        dims = [init_dim, *map(lambda m: dim * m, dim_mults)]\n",
        "        in_out = list(zip(dims[:-1], dims[1:]))\n",
        "\n",
        "        block_klass = partial(ResnetBlock, groups = resnet_block_groups)\n",
        "\n",
        "        # time embeddings\n",
        "\n",
        "        time_dim = dim * 4\n",
        "\n",
        "        self.random_or_learned_sinusoidal_cond = learned_sinusoidal_cond or random_fourier_features\n",
        "\n",
        "        if self.random_or_learned_sinusoidal_cond:\n",
        "            sinu_pos_emb = RandomOrLearnedSinusoidalPosEmb(learned_sinusoidal_dim, random_fourier_features)\n",
        "            fourier_dim = learned_sinusoidal_dim + 1\n",
        "        else:\n",
        "            sinu_pos_emb = SinusoidalPosEmb(dim)\n",
        "            fourier_dim = dim\n",
        "\n",
        "        self.time_mlp = nn.Sequential(\n",
        "            sinu_pos_emb,\n",
        "            nn.Linear(fourier_dim, time_dim),\n",
        "            nn.GELU(),\n",
        "            nn.Linear(time_dim, time_dim)\n",
        "        )\n",
        "\n",
        "        # class embeddings\n",
        "\n",
        "        self.classes_emb = nn.Embedding(num_classes, dim)\n",
        "        self.null_classes_emb = nn.Parameter(torch.randn(dim))\n",
        "\n",
        "        classes_dim = dim * 4\n",
        "\n",
        "        self.classes_mlp = nn.Sequential(\n",
        "            nn.Linear(dim, classes_dim),\n",
        "            nn.GELU(),\n",
        "            nn.Linear(classes_dim, classes_dim)\n",
        "        )\n",
        "\n",
        "        # layers\n",
        "\n",
        "        self.downs = nn.ModuleList([])\n",
        "        self.ups = nn.ModuleList([])\n",
        "        num_resolutions = len(in_out)\n",
        "        print(in_out)\n",
        "        for ind, (dim_in, dim_out) in enumerate(in_out):\n",
        "            is_last = ind >= (num_resolutions - 1)\n",
        "\n",
        "            self.downs.append(nn.ModuleList([\n",
        "                block_klass(dim_in, dim_in, time_emb_dim = time_dim, classes_emb_dim = classes_dim),\n",
        "                block_klass(dim_in, dim_in, time_emb_dim = time_dim, classes_emb_dim = classes_dim),\n",
        "                Residual(PreNorm(dim_in, LinearAttention(dim_in))),\n",
        "                Downsample(dim_in, dim_out) if not is_last else nn.Conv2d(dim_in, dim_out, 3, padding = 1)\n",
        "            ]))\n",
        "\n",
        "        mid_dim = dims[-1]\n",
        "        self.mid_block1 = block_klass(mid_dim, mid_dim, time_emb_dim = time_dim, classes_emb_dim = classes_dim)\n",
        "        self.mid_attn = Residual(PreNorm(mid_dim, Attention(mid_dim, dim_head = attn_dim_head, heads = attn_heads)))\n",
        "        self.mid_block2 = block_klass(mid_dim, mid_dim, time_emb_dim = time_dim, classes_emb_dim = classes_dim)\n",
        "\n",
        "        for ind, (dim_in, dim_out) in enumerate(reversed(in_out)):\n",
        "            is_last = ind == (len(in_out) - 1)\n",
        "\n",
        "            self.ups.append(nn.ModuleList([\n",
        "                block_klass(dim_out + dim_in, dim_out, time_emb_dim = time_dim, classes_emb_dim = classes_dim),\n",
        "                block_klass(dim_out + dim_in, dim_out, time_emb_dim = time_dim, classes_emb_dim = classes_dim),\n",
        "                Residual(PreNorm(dim_out, LinearAttention(dim_out))),\n",
        "                Upsample(dim_out, dim_in) if not is_last else  nn.Conv2d(dim_out, dim_in, 3, padding = 1)\n",
        "            ]))\n",
        "\n",
        "        default_out_dim = channels * (1 if not learned_variance else 2)\n",
        "        self.out_dim = default(out_dim, default_out_dim)\n",
        "\n",
        "        self.final_res_block = block_klass(dim * 2, dim, time_emb_dim = time_dim, classes_emb_dim = classes_dim)\n",
        "        self.final_conv = nn.Conv2d(dim, self.out_dim, 1)\n",
        "\n",
        "    def forward_with_cond_scale(\n",
        "        self,\n",
        "        *args,\n",
        "        cond_scale = 1.,\n",
        "        rescaled_phi = 0.,\n",
        "        **kwargs\n",
        "    ):\n",
        "        logits = self.forward(*args, cond_drop_prob = 0., **kwargs)\n",
        "\n",
        "        if cond_scale == 1:\n",
        "            return logits\n",
        "\n",
        "        null_logits = self.forward(*args, cond_drop_prob = 1., **kwargs)\n",
        "        scaled_logits = null_logits + (logits - null_logits) * cond_scale\n",
        "\n",
        "        if rescaled_phi == 0.:\n",
        "            return scaled_logits\n",
        "\n",
        "        std_fn = partial(torch.std, dim = tuple(range(1, scaled_logits.ndim)), keepdim = True)\n",
        "        rescaled_logits = scaled_logits * (std_fn(logits) / std_fn(scaled_logits))\n",
        "\n",
        "        return rescaled_logits * rescaled_phi + scaled_logits * (1. - rescaled_phi)\n",
        "\n",
        "    def forward(\n",
        "        self,\n",
        "        x,\n",
        "        time,\n",
        "        classes,\n",
        "        cond_drop_prob = None\n",
        "    ):\n",
        "        batch, device = x.shape[0], x.device\n",
        "\n",
        "        cond_drop_prob = default(cond_drop_prob, self.cond_drop_prob)\n",
        "\n",
        "        # derive condition, with condition dropout for classifier free guidance\n",
        "\n",
        "        classes_emb = self.classes_emb(classes)\n",
        "\n",
        "        if cond_drop_prob > 0:\n",
        "            keep_mask = prob_mask_like((batch,), 1 - cond_drop_prob, device = device)\n",
        "            null_classes_emb = repeat(self.null_classes_emb, 'd -> b d', b = batch)\n",
        "\n",
        "            classes_emb = torch.where(\n",
        "                rearrange(keep_mask, 'b -> b 1'),\n",
        "                classes_emb,\n",
        "                null_classes_emb\n",
        "            )\n",
        "\n",
        "        c = self.classes_mlp(classes_emb)\n",
        "\n",
        "        # unet\n",
        "\n",
        "        x = self.init_conv(x)\n",
        "        r = x.clone()\n",
        "\n",
        "        t = self.time_mlp(time)\n",
        "\n",
        "        h = []\n",
        "\n",
        "        for block1, block2, attn, downsample in self.downs:\n",
        "            x = block1(x, t, c)\n",
        "            h.append(x)\n",
        "\n",
        "            x = block2(x, t, c)\n",
        "            x = attn(x)\n",
        "            h.append(x)\n",
        "\n",
        "            x = downsample(x)\n",
        "\n",
        "        x = self.mid_block1(x, t, c)\n",
        "        x = self.mid_attn(x)\n",
        "        x = self.mid_block2(x, t, c)\n",
        "\n",
        "        for block1, block2, attn, upsample in self.ups:\n",
        "            x = torch.cat((x, h.pop()), dim = 1)\n",
        "            x = block1(x, t, c)\n",
        "\n",
        "            x = torch.cat((x, h.pop()), dim = 1)\n",
        "            x = block2(x, t, c)\n",
        "            x = attn(x)\n",
        "\n",
        "            x = upsample(x)\n",
        "\n",
        "        x = torch.cat((x, r), dim = 1)\n",
        "\n",
        "        x = self.final_res_block(x, t, c)\n",
        "        return self.final_conv(x)"
      ],
      "metadata": {
        "id": "D_dLbwGmYEnV"
      },
      "execution_count": null,
      "outputs": []
    },
    {
      "cell_type": "markdown",
      "source": [
        "### Gaussian diffusion"
      ],
      "metadata": {
        "id": "4QObWf-3ZNb0"
      }
    },
    {
      "cell_type": "code",
      "source": [
        "def extract(a, t, x_shape):\n",
        "    b, *_ = t.shape\n",
        "    out = a.gather(-1, t)\n",
        "    return out.reshape(b, *((1,) * (len(x_shape) - 1)))\n",
        "\n",
        "def linear_beta_schedule(timesteps):\n",
        "    scale = 1000 / timesteps\n",
        "    beta_start = scale * 0.0001\n",
        "    beta_end = scale * 0.02\n",
        "    return torch.linspace(beta_start, beta_end, timesteps, dtype = torch.float64)\n",
        "\n",
        "def cosine_beta_schedule(timesteps, s = 0.008):\n",
        "    \"\"\"\n",
        "    cosine schedule\n",
        "    as proposed in https://openreview.net/forum?id=-NEXDKk8gZ\n",
        "    \"\"\"\n",
        "    steps = timesteps + 1\n",
        "    x = torch.linspace(0, timesteps, steps, dtype = torch.float64)\n",
        "    alphas_cumprod = torch.cos(((x / timesteps) + s) / (1 + s) * math.pi * 0.5) ** 2\n",
        "    alphas_cumprod = alphas_cumprod / alphas_cumprod[0]\n",
        "    betas = 1 - (alphas_cumprod[1:] / alphas_cumprod[:-1])\n",
        "    return torch.clip(betas, 0, 0.999)"
      ],
      "metadata": {
        "id": "BCxFrZ_6YTHS"
      },
      "execution_count": null,
      "outputs": []
    },
    {
      "cell_type": "code",
      "source": [
        "class GaussianDiffusion(nn.Module):\n",
        "    def __init__(\n",
        "        self,\n",
        "        model,\n",
        "        *,\n",
        "        image_size,\n",
        "        timesteps = 1000,\n",
        "        sampling_timesteps = None,\n",
        "        objective = 'pred_noise',\n",
        "        beta_schedule = 'cosine',\n",
        "        ddim_sampling_eta = 1.,\n",
        "        offset_noise_strength = 0.,\n",
        "        min_snr_loss_weight = False,\n",
        "        min_snr_gamma = 5\n",
        "    ):\n",
        "        super().__init__()\n",
        "        assert not (type(self) == GaussianDiffusion and model.channels != model.out_dim)\n",
        "        assert not model.random_or_learned_sinusoidal_cond\n",
        "\n",
        "        self.model = model\n",
        "        self.channels = self.model.channels\n",
        "\n",
        "        self.image_size = image_size\n",
        "\n",
        "        self.objective = objective\n",
        "\n",
        "        assert objective in {'pred_noise', 'pred_x0', 'pred_v'}, 'objective must be either pred_noise (predict noise) or pred_x0 (predict image start) or pred_v (predict v [v-parameterization as defined in appendix D of progressive distillation paper, used in imagen-video successfully])'\n",
        "\n",
        "        if beta_schedule == 'linear':\n",
        "            betas = linear_beta_schedule(timesteps)\n",
        "        elif beta_schedule == 'cosine':\n",
        "            betas = cosine_beta_schedule(timesteps)\n",
        "        else:\n",
        "            raise ValueError(f'unknown beta schedule {beta_schedule}')\n",
        "\n",
        "        alphas = 1. - betas\n",
        "        alphas_cumprod = torch.cumprod(alphas, dim=0)\n",
        "        alphas_cumprod_prev = F.pad(alphas_cumprod[:-1], (1, 0), value = 1.)\n",
        "\n",
        "        timesteps, = betas.shape\n",
        "        self.num_timesteps = int(timesteps)\n",
        "\n",
        "        # sampling related parameters\n",
        "\n",
        "        self.sampling_timesteps = default(sampling_timesteps, timesteps) # default num sampling timesteps to number of timesteps at training\n",
        "\n",
        "        assert self.sampling_timesteps <= timesteps\n",
        "        self.is_ddim_sampling = self.sampling_timesteps < timesteps\n",
        "        self.ddim_sampling_eta = ddim_sampling_eta\n",
        "\n",
        "        # helper function to register buffer from float64 to float32\n",
        "\n",
        "        register_buffer = lambda name, val: self.register_buffer(name, val.to(torch.float32))\n",
        "\n",
        "        register_buffer('betas', betas)\n",
        "        register_buffer('alphas_cumprod', alphas_cumprod)\n",
        "        register_buffer('alphas_cumprod_prev', alphas_cumprod_prev)\n",
        "\n",
        "        # calculations for diffusion q(x_t | x_{t-1}) and others\n",
        "\n",
        "        register_buffer('sqrt_alphas_cumprod', torch.sqrt(alphas_cumprod))\n",
        "        register_buffer('sqrt_one_minus_alphas_cumprod', torch.sqrt(1. - alphas_cumprod))\n",
        "        register_buffer('log_one_minus_alphas_cumprod', torch.log(1. - alphas_cumprod))\n",
        "        register_buffer('sqrt_recip_alphas_cumprod', torch.sqrt(1. / alphas_cumprod))\n",
        "        register_buffer('sqrt_recipm1_alphas_cumprod', torch.sqrt(1. / alphas_cumprod - 1))\n",
        "\n",
        "        # calculations for posterior q(x_{t-1} | x_t, x_0)\n",
        "\n",
        "        posterior_variance = betas * (1. - alphas_cumprod_prev) / (1. - alphas_cumprod)\n",
        "\n",
        "        # above: equal to 1. / (1. / (1. - alpha_cumprod_tm1) + alpha_t / beta_t)\n",
        "\n",
        "        register_buffer('posterior_variance', posterior_variance)\n",
        "\n",
        "        # below: log calculation clipped because the posterior variance is 0 at the beginning of the diffusion chain\n",
        "\n",
        "        register_buffer('posterior_log_variance_clipped', torch.log(posterior_variance.clamp(min =1e-20)))\n",
        "        register_buffer('posterior_mean_coef1', betas * torch.sqrt(alphas_cumprod_prev) / (1. - alphas_cumprod))\n",
        "        register_buffer('posterior_mean_coef2', (1. - alphas_cumprod_prev) * torch.sqrt(alphas) / (1. - alphas_cumprod))\n",
        "\n",
        "        # offset noise strength - 0.1 was claimed ideal\n",
        "\n",
        "        self.offset_noise_strength = offset_noise_strength\n",
        "\n",
        "        # loss weight\n",
        "\n",
        "        snr = alphas_cumprod / (1 - alphas_cumprod)\n",
        "\n",
        "        maybe_clipped_snr = snr.clone()\n",
        "        if min_snr_loss_weight:\n",
        "            maybe_clipped_snr.clamp_(max = min_snr_gamma)\n",
        "\n",
        "        if objective == 'pred_noise':\n",
        "            loss_weight = maybe_clipped_snr / snr\n",
        "        elif objective == 'pred_x0':\n",
        "            loss_weight = maybe_clipped_snr\n",
        "        elif objective == 'pred_v':\n",
        "            loss_weight = maybe_clipped_snr / (snr + 1)\n",
        "\n",
        "        register_buffer('loss_weight', loss_weight)\n",
        "\n",
        "    @property\n",
        "    def device(self):\n",
        "        return self.betas.device\n",
        "\n",
        "    def predict_start_from_noise(self, x_t, t, noise):\n",
        "        return (\n",
        "            extract(self.sqrt_recip_alphas_cumprod, t, x_t.shape) * x_t -\n",
        "            extract(self.sqrt_recipm1_alphas_cumprod, t, x_t.shape) * noise\n",
        "        )\n",
        "\n",
        "    def predict_noise_from_start(self, x_t, t, x0):\n",
        "        return (\n",
        "            (extract(self.sqrt_recip_alphas_cumprod, t, x_t.shape) * x_t - x0) / \\\n",
        "            extract(self.sqrt_recipm1_alphas_cumprod, t, x_t.shape)\n",
        "        )\n",
        "\n",
        "    def predict_v(self, x_start, t, noise):\n",
        "        return (\n",
        "            extract(self.sqrt_alphas_cumprod, t, x_start.shape) * noise -\n",
        "            extract(self.sqrt_one_minus_alphas_cumprod, t, x_start.shape) * x_start\n",
        "        )\n",
        "\n",
        "    def predict_start_from_v(self, x_t, t, v):\n",
        "        return (\n",
        "            extract(self.sqrt_alphas_cumprod, t, x_t.shape) * x_t -\n",
        "            extract(self.sqrt_one_minus_alphas_cumprod, t, x_t.shape) * v\n",
        "        )\n",
        "\n",
        "    def q_posterior(self, x_start, x_t, t):\n",
        "        posterior_mean = (\n",
        "            extract(self.posterior_mean_coef1, t, x_t.shape) * x_start +\n",
        "            extract(self.posterior_mean_coef2, t, x_t.shape) * x_t\n",
        "        )\n",
        "        posterior_variance = extract(self.posterior_variance, t, x_t.shape)\n",
        "        posterior_log_variance_clipped = extract(self.posterior_log_variance_clipped, t, x_t.shape)\n",
        "        return posterior_mean, posterior_variance, posterior_log_variance_clipped\n",
        "\n",
        "    def model_predictions(self, x, t, classes, cond_scale = 6., rescaled_phi = 0.7, clip_x_start = False):\n",
        "        model_output = self.model.forward_with_cond_scale(x, t, classes, cond_scale = cond_scale, rescaled_phi = rescaled_phi)\n",
        "        maybe_clip = partial(torch.clamp, min = -1., max = 1.) if clip_x_start else identity\n",
        "\n",
        "        if self.objective == 'pred_noise':\n",
        "            pred_noise = model_output\n",
        "            x_start = self.predict_start_from_noise(x, t, pred_noise)\n",
        "            x_start = maybe_clip(x_start)\n",
        "\n",
        "        elif self.objective == 'pred_x0':\n",
        "            x_start = model_output\n",
        "            x_start = maybe_clip(x_start)\n",
        "            pred_noise = self.predict_noise_from_start(x, t, x_start)\n",
        "\n",
        "        elif self.objective == 'pred_v':\n",
        "            v = model_output\n",
        "            x_start = self.predict_start_from_v(x, t, v)\n",
        "            x_start = maybe_clip(x_start)\n",
        "            pred_noise = self.predict_noise_from_start(x, t, x_start)\n",
        "\n",
        "        return ModelPrediction(pred_noise, x_start)\n",
        "\n",
        "    def p_mean_variance(self, x, t, classes, cond_scale, rescaled_phi, clip_denoised = True):\n",
        "        preds = self.model_predictions(x, t, classes, cond_scale, rescaled_phi)\n",
        "        x_start = preds.pred_x_start\n",
        "\n",
        "        if clip_denoised:\n",
        "            x_start.clamp_(-1., 1.)\n",
        "\n",
        "        model_mean, posterior_variance, posterior_log_variance = self.q_posterior(x_start = x_start, x_t = x, t = t)\n",
        "        return model_mean, posterior_variance, posterior_log_variance, x_start\n",
        "\n",
        "    @torch.no_grad()\n",
        "    def p_sample(self, x, t: int, classes, cond_scale = 6., rescaled_phi = 0.7, clip_denoised = True):\n",
        "        b, *_, device = *x.shape, x.device\n",
        "        batched_times = torch.full((x.shape[0],), t, device = x.device, dtype = torch.long)\n",
        "        model_mean, _, model_log_variance, x_start = self.p_mean_variance(x = x, t = batched_times, classes = classes, cond_scale = cond_scale, rescaled_phi = rescaled_phi, clip_denoised = clip_denoised)\n",
        "        noise = torch.randn_like(x) if t > 0 else 0. # no noise if t == 0\n",
        "        pred_img = model_mean + (0.5 * model_log_variance).exp() * noise\n",
        "        return pred_img, x_start\n",
        "\n",
        "    @torch.no_grad()\n",
        "    def p_sample_loop(self, classes, shape, cond_scale = 6., rescaled_phi = 0.7):\n",
        "        batch, device = shape[0], self.betas.device\n",
        "\n",
        "        img = torch.randn(shape, device=device)\n",
        "\n",
        "        x_start = None\n",
        "\n",
        "        for t in tqdm(reversed(range(0, self.num_timesteps)), desc = 'sampling loop time step', total = self.num_timesteps):\n",
        "            img, x_start = self.p_sample(img, t, classes, cond_scale, rescaled_phi)\n",
        "\n",
        "        img = unnormalize_to_zero_to_one(img)\n",
        "        return img\n",
        "\n",
        "    @torch.no_grad()\n",
        "    def ddim_sample(self, classes, shape, cond_scale = 6., rescaled_phi = 0.7, clip_denoised = True):\n",
        "        batch, device, total_timesteps, sampling_timesteps, eta, objective = shape[0], self.betas.device, self.num_timesteps, self.sampling_timesteps, self.ddim_sampling_eta, self.objective\n",
        "\n",
        "        times = torch.linspace(-1, total_timesteps - 1, steps=sampling_timesteps + 1)   # [-1, 0, 1, 2, ..., T-1] when sampling_timesteps == total_timesteps\n",
        "        times = list(reversed(times.int().tolist()))\n",
        "        time_pairs = list(zip(times[:-1], times[1:])) # [(T-1, T-2), (T-2, T-3), ..., (1, 0), (0, -1)]\n",
        "\n",
        "        img = torch.randn(shape, device = device)\n",
        "\n",
        "        x_start = None\n",
        "\n",
        "        for time, time_next in tqdm(time_pairs, desc = 'sampling loop time step'):\n",
        "            time_cond = torch.full((batch,), time, device=device, dtype=torch.long)\n",
        "            pred_noise, x_start, *_ = self.model_predictions(img, time_cond, classes, cond_scale = cond_scale, rescaled_phi = rescaled_phi, clip_x_start = clip_denoised)\n",
        "\n",
        "            if time_next < 0:\n",
        "                img = x_start\n",
        "                continue\n",
        "\n",
        "            alpha = self.alphas_cumprod[time]\n",
        "            alpha_next = self.alphas_cumprod[time_next]\n",
        "\n",
        "            sigma = eta * ((1 - alpha / alpha_next) * (1 - alpha_next) / (1 - alpha)).sqrt()\n",
        "            c = (1 - alpha_next - sigma ** 2).sqrt()\n",
        "\n",
        "            noise = torch.randn_like(img)\n",
        "\n",
        "            img = x_start * alpha_next.sqrt() + \\\n",
        "                  c * pred_noise + \\\n",
        "                  sigma * noise\n",
        "\n",
        "        img = unnormalize_to_zero_to_one(img)\n",
        "        return img\n",
        "\n",
        "    @torch.no_grad()\n",
        "    def sample(self, classes, cond_scale = 6., rescaled_phi = 0.7):\n",
        "        batch_size, image_size, channels = classes.shape[0], self.image_size, self.channels\n",
        "        sample_fn = self.p_sample_loop if not self.is_ddim_sampling else self.ddim_sample\n",
        "        return sample_fn(classes, (batch_size, channels, image_size, image_size), cond_scale, rescaled_phi)\n",
        "\n",
        "    @torch.no_grad()\n",
        "    def interpolate(self, x1, x2, classes, t = None, lam = 0.5):\n",
        "        b, *_, device = *x1.shape, x1.device\n",
        "        t = default(t, self.num_timesteps - 1)\n",
        "\n",
        "        assert x1.shape == x2.shape\n",
        "\n",
        "        t_batched = torch.stack([torch.tensor(t, device = device)] * b)\n",
        "        xt1, xt2 = map(lambda x: self.q_sample(x, t = t_batched), (x1, x2))\n",
        "\n",
        "        img = (1 - lam) * xt1 + lam * xt2\n",
        "\n",
        "        for i in tqdm(reversed(range(0, t)), desc = 'interpolation sample time step', total = t):\n",
        "            img, _ = self.p_sample(img, i, classes)\n",
        "\n",
        "        return img\n",
        "\n",
        "    @autocast(enabled = False)\n",
        "    def q_sample(self, x_start, t, noise=None):\n",
        "        noise = default(noise, lambda: torch.randn_like(x_start))\n",
        "\n",
        "        if self.offset_noise_strength > 0.:\n",
        "            offset_noise = torch.randn(x_start.shape[:2], device = self.device)\n",
        "            noise += self.offset_noise_strength * rearrange(offset_noise, 'b c -> b c 1 1')\n",
        "\n",
        "        return (\n",
        "            extract(self.sqrt_alphas_cumprod, t, x_start.shape) * x_start +\n",
        "            extract(self.sqrt_one_minus_alphas_cumprod, t, x_start.shape) * noise\n",
        "        )\n",
        "\n",
        "    def p_losses(self, x_start, t, *, classes, noise = None):\n",
        "        b, c, h, w = x_start.shape\n",
        "        noise = default(noise, lambda: torch.randn_like(x_start))\n",
        "\n",
        "        # noise sample\n",
        "\n",
        "        x = self.q_sample(x_start = x_start, t = t, noise = noise)\n",
        "\n",
        "        # predict and take gradient step\n",
        "\n",
        "        model_out = self.model(x, t, classes)\n",
        "\n",
        "        if self.objective == 'pred_noise':\n",
        "            target = noise\n",
        "        elif self.objective == 'pred_x0':\n",
        "            target = x_start\n",
        "        elif self.objective == 'pred_v':\n",
        "            v = self.predict_v(x_start, t, noise)\n",
        "            target = v\n",
        "        else:\n",
        "            raise ValueError(f'unknown objective {self.objective}')\n",
        "\n",
        "        loss = F.mse_loss(model_out, target, reduction = 'none')\n",
        "        loss = reduce(loss, 'b ... -> b', 'mean')\n",
        "\n",
        "        loss = loss * extract(self.loss_weight, t, loss.shape)\n",
        "        return loss.mean()\n",
        "\n",
        "    def forward(self, img, *args, **kwargs):\n",
        "        b, c, h, w, device, img_size, = *img.shape, img.device, self.image_size\n",
        "        assert h == img_size and w == img_size, f'height and width of image must be {img_size}'\n",
        "        t = torch.randint(0, self.num_timesteps, (b,), device=device).long()\n",
        "\n",
        "        img = normalize_to_neg_one_to_one(img)\n",
        "        return self.p_losses(img, t, *args, **kwargs)\n",
        "\n",
        "# example\n",
        "'''\n",
        "if __name__ == '__main__':\n",
        "    num_classes = 10\n",
        "\n",
        "    model = Unet(\n",
        "        dim = 64,\n",
        "        dim_mults = (1, 2, 4, 8),\n",
        "        num_classes = num_classes,\n",
        "        cond_drop_prob = 0.5\n",
        "    )\n",
        "\n",
        "    diffusion = GaussianDiffusion(\n",
        "        model,\n",
        "        image_size = 128,\n",
        "        timesteps = 1000\n",
        "    ).cuda()\n",
        "\n",
        "    training_images = torch.randn(8, 3, 128, 128).cuda() # images are normalized from 0 to 1\n",
        "    image_classes = torch.randint(0, num_classes, (8,)).cuda()    # say 10 classes\n",
        "\n",
        "    loss = diffusion(training_images, classes = image_classes)\n",
        "    loss.backward()\n",
        "\n",
        "    # do above for many steps\n",
        "\n",
        "    sampled_images = diffusion.sample(\n",
        "        classes = image_classes,\n",
        "        cond_scale = 6.                # condition scaling, anything greater than 1 strengthens the classifier free guidance. reportedly 3-8 is good empirically\n",
        "    )\n",
        "\n",
        "    sampled_images.shape # (8, 3, 128, 128)\n",
        "\n",
        "    # interpolation\n",
        "\n",
        "    interpolate_out = diffusion.interpolate(\n",
        "        training_images[:1],\n",
        "        training_images[:1],\n",
        "        image_classes[:1]\n",
        "    )\n",
        "'''"
      ],
      "metadata": {
        "colab": {
          "base_uri": "https://localhost:8080/",
          "height": 123
        },
        "id": "tRKNtcQoZgYY",
        "outputId": "4d1f314c-4394-4363-abcc-7027765d9b99"
      },
      "execution_count": null,
      "outputs": [
        {
          "output_type": "execute_result",
          "data": {
            "text/plain": [
              "\"\\nif __name__ == '__main__':\\n    num_classes = 10\\n\\n    model = Unet(\\n        dim = 64,\\n        dim_mults = (1, 2, 4, 8),\\n        num_classes = num_classes,\\n        cond_drop_prob = 0.5\\n    )\\n\\n    diffusion = GaussianDiffusion(\\n        model,\\n        image_size = 128,\\n        timesteps = 1000\\n    ).cuda()\\n\\n    training_images = torch.randn(8, 3, 128, 128).cuda() # images are normalized from 0 to 1\\n    image_classes = torch.randint(0, num_classes, (8,)).cuda()    # say 10 classes\\n\\n    loss = diffusion(training_images, classes = image_classes)\\n    loss.backward()\\n\\n    # do above for many steps\\n\\n    sampled_images = diffusion.sample(\\n        classes = image_classes,\\n        cond_scale = 6.                # condition scaling, anything greater than 1 strengthens the classifier free guidance. reportedly 3-8 is good empirically\\n    )\\n\\n    sampled_images.shape # (8, 3, 128, 128)\\n\\n    # interpolation\\n\\n    interpolate_out = diffusion.interpolate(\\n        training_images[:1],\\n        training_images[:1],\\n        image_classes[:1]\\n    )\\n\""
            ],
            "application/vnd.google.colaboratory.intrinsic+json": {
              "type": "string"
            }
          },
          "metadata": {},
          "execution_count": 9
        }
      ]
    },
    {
      "cell_type": "markdown",
      "source": [
        "### Dataset"
      ],
      "metadata": {
        "id": "Bp8AuEUpnFfk"
      }
    },
    {
      "cell_type": "code",
      "source": [
        "!pip install -q -U einops datasets tqdm"
      ],
      "metadata": {
        "colab": {
          "base_uri": "https://localhost:8080/"
        },
        "id": "4Msf5zzypXaj",
        "outputId": "ccbd5181-772d-486e-b254-6abdb09b1819"
      },
      "execution_count": null,
      "outputs": [
        {
          "output_type": "stream",
          "name": "stdout",
          "text": [
            "\u001b[2K     \u001b[90m━━━━━━━━━━━━━━━━━━━━━━━━━━━━━━━━━━━━━━━━\u001b[0m \u001b[32m507.1/507.1 kB\u001b[0m \u001b[31m6.2 MB/s\u001b[0m eta \u001b[36m0:00:00\u001b[0m\n",
            "\u001b[2K     \u001b[90m━━━━━━━━━━━━━━━━━━━━━━━━━━━━━━━━━━━━━━━━\u001b[0m \u001b[32m115.3/115.3 kB\u001b[0m \u001b[31m7.4 MB/s\u001b[0m eta \u001b[36m0:00:00\u001b[0m\n",
            "\u001b[2K     \u001b[90m━━━━━━━━━━━━━━━━━━━━━━━━━━━━━━━━━━━━━━━━\u001b[0m \u001b[32m134.8/134.8 kB\u001b[0m \u001b[31m10.6 MB/s\u001b[0m eta \u001b[36m0:00:00\u001b[0m\n",
            "\u001b[?25h"
          ]
        }
      ]
    },
    {
      "cell_type": "code",
      "source": [
        "from datasets import load_dataset\n",
        "\n",
        "# load dataset from the hub\n",
        "dataset = load_dataset(\"mnist\")\n",
        "image_size = 48\n",
        "channels = 1\n",
        "batch_size = 32"
      ],
      "metadata": {
        "colab": {
          "base_uri": "https://localhost:8080/",
          "height": 373,
          "referenced_widgets": [
            "792e059c723f46d28e42872e1c37ee74",
            "fd22336dc01d46ae915846382e47e68e",
            "b1aa7c235dfd4e289f8a2844bc92ebec",
            "a4b29a46fe9c4264a67e8cb4279f3740",
            "763c270b7d0c415687d68e3845d1b157",
            "a518f8d1e4544547b3a2b7aa07a8edd4",
            "9e999c6e5d8741e28af0999c5d0fda8f",
            "6516739fe6c140fa90dbdda3a55ff2a1",
            "0eeb44b8adb8476e956f5fc629d52f16",
            "704d7082ad42473db58c490785e8ab3b",
            "bc6b162f6e1c441a8f5383f3804b0f74",
            "1ddff34dabff40ca9c378299f3b479d5",
            "35914ea0d551428fba3654fba89506ff",
            "a517887c8db64148af748dd3ee42fb31",
            "d0dcd3c07f474d1db43fdd378c4d2ea5",
            "2a54b840d90f4273953628600731d5e4",
            "4ecd76a18c6149219874ad2c811b73c6",
            "98839cbe0d1748029a0d54d0f3a1ecb8",
            "96b33ab4515148c9bfe78a5c2601479c",
            "c1378123f37941999d885d273f098cb0",
            "a7dd7cf9a1fb4a9f922e94c055a1a04c",
            "daec8e3066a843fd86b7f3253a54ac3c",
            "772a22431e93441aa17820b5a2f330c5",
            "58031f8ea76b470d8072e855c2ad7026",
            "37982d1285954b58abe2d73c91f79c07",
            "be5e163f348247c7b39f86972c753a6c",
            "23a3bcd4449643f6a604bb758542c538",
            "714922f74c2c43e4b0efb2d8454e9958",
            "086647305a03403488345c3b5c9f5bcb",
            "24800a4dcba645d6bb9b098ae54e8111",
            "45c8cdf4620341008645726ca0c3b72c",
            "58a26fc20e7e47debf36aaeb3adbaf1f",
            "f1f7c2e5bed64ed3933c39643aa2911a",
            "ed3f25d2bd3f4cc7b348db5000501066",
            "bf099784b2b04b0f9ec1794efb61652f",
            "acffd1fbfd824e8986582a7f46cbdec0",
            "ead3ad52c6294cc796b8c446341c06af",
            "6e631412f7be4fb6b28f65a67016bc0b",
            "5e3d342f8bd74409b87a5f647d486ee5",
            "3726285ff4ba4f279c07583251265cfd",
            "cb098d22222e49aa8c70268df4635d43",
            "bd8ec8d5de3342799d468df73c45a0c9",
            "1a62d3202f2c43ce89206969be523243",
            "b26108c6621148969f92318ba6508fed"
          ]
        },
        "id": "DIwGubMxbPuK",
        "outputId": "8719b5d9-8485-48d2-cf03-2a7506ee2e50"
      },
      "execution_count": null,
      "outputs": [
        {
          "output_type": "stream",
          "name": "stderr",
          "text": [
            "/usr/local/lib/python3.10/dist-packages/huggingface_hub/utils/_token.py:72: UserWarning: \n",
            "The secret `HF_TOKEN` does not exist in your Colab secrets.\n",
            "To authenticate with the Hugging Face Hub, create a token in your settings tab (https://huggingface.co/settings/tokens), set it as secret in your Google Colab and restart your session.\n",
            "You will be able to reuse this secret in all of your notebooks.\n",
            "Please note that authentication is recommended but still optional to access public models or datasets.\n",
            "  warnings.warn(\n",
            "/usr/local/lib/python3.10/dist-packages/huggingface_hub/utils/_token.py:72: UserWarning: \n",
            "The secret `HF_TOKEN` does not exist in your Colab secrets.\n",
            "To authenticate with the Hugging Face Hub, create a token in your settings tab (https://huggingface.co/settings/tokens), set it as secret in your Google Colab and restart your session.\n",
            "You will be able to reuse this secret in all of your notebooks.\n",
            "Please note that authentication is recommended but still optional to access public models or datasets.\n",
            "  warnings.warn(\n"
          ]
        },
        {
          "output_type": "display_data",
          "data": {
            "text/plain": [
              "Downloading data:   0%|          | 0.00/15.6M [00:00<?, ?B/s]"
            ],
            "application/vnd.jupyter.widget-view+json": {
              "version_major": 2,
              "version_minor": 0,
              "model_id": "792e059c723f46d28e42872e1c37ee74"
            }
          },
          "metadata": {}
        },
        {
          "output_type": "display_data",
          "data": {
            "text/plain": [
              "Downloading data:   0%|          | 0.00/2.60M [00:00<?, ?B/s]"
            ],
            "application/vnd.jupyter.widget-view+json": {
              "version_major": 2,
              "version_minor": 0,
              "model_id": "1ddff34dabff40ca9c378299f3b479d5"
            }
          },
          "metadata": {}
        },
        {
          "output_type": "display_data",
          "data": {
            "text/plain": [
              "Generating train split: 0 examples [00:00, ? examples/s]"
            ],
            "application/vnd.jupyter.widget-view+json": {
              "version_major": 2,
              "version_minor": 0,
              "model_id": "772a22431e93441aa17820b5a2f330c5"
            }
          },
          "metadata": {}
        },
        {
          "output_type": "display_data",
          "data": {
            "text/plain": [
              "Generating test split: 0 examples [00:00, ? examples/s]"
            ],
            "application/vnd.jupyter.widget-view+json": {
              "version_major": 2,
              "version_minor": 0,
              "model_id": "ed3f25d2bd3f4cc7b348db5000501066"
            }
          },
          "metadata": {}
        }
      ]
    },
    {
      "cell_type": "code",
      "source": [
        "num_classes = 10 #[0,1,2,3,4,5,6,7,8,9]"
      ],
      "metadata": {
        "id": "QNniknLvpaKq"
      },
      "execution_count": null,
      "outputs": []
    },
    {
      "cell_type": "code",
      "source": [
        "dataset"
      ],
      "metadata": {
        "colab": {
          "base_uri": "https://localhost:8080/"
        },
        "id": "hzInKCvsh3av",
        "outputId": "d41c9895-a590-456e-8470-f96e7d06255b"
      },
      "execution_count": null,
      "outputs": [
        {
          "output_type": "execute_result",
          "data": {
            "text/plain": [
              "DatasetDict({\n",
              "    train: Dataset({\n",
              "        features: ['image', 'label'],\n",
              "        num_rows: 60000\n",
              "    })\n",
              "    test: Dataset({\n",
              "        features: ['image', 'label'],\n",
              "        num_rows: 10000\n",
              "    })\n",
              "})"
            ]
          },
          "metadata": {},
          "execution_count": 13
        }
      ]
    },
    {
      "cell_type": "code",
      "source": [
        "#len(num_classes)"
      ],
      "metadata": {
        "id": "ErcH6A3Gpt7Z"
      },
      "execution_count": null,
      "outputs": []
    },
    {
      "cell_type": "markdown",
      "source": [
        "### 將dataset image 轉換成torch.Tensor數值"
      ],
      "metadata": {
        "id": "b1TKFIpxeHCB"
      }
    },
    {
      "cell_type": "code",
      "source": [
        "from torchvision import transforms\n",
        "from torchvision.transforms import Compose, ToTensor, Lambda, ToPILImage, CenterCrop, Resize,Grayscale"
      ],
      "metadata": {
        "id": "qFlx0APLfLr-"
      },
      "execution_count": null,
      "outputs": []
    },
    {
      "cell_type": "code",
      "source": [
        "\n",
        "from torch.utils.data import DataLoader"
      ],
      "metadata": {
        "id": "7sICwPW9kjg5"
      },
      "execution_count": null,
      "outputs": []
    },
    {
      "cell_type": "code",
      "source": [
        "import torch\n",
        "from torchvision import transforms\n",
        "from datasets import load_dataset  # Hugging Face 的 datasets 模組\n",
        "\n",
        "# 載入 MNIST 數據集\n",
        "#dataset = load_dataset(\"mnist\")\n",
        "\n",
        "# 定義轉換\n",
        "transform = transforms.Compose([\n",
        "    transforms.ToTensor(),\n",
        "    transforms.Grayscale(num_output_channels=3),\n",
        "    transforms.Resize((48, 48))\n",
        "])\n",
        "\n",
        "# 轉換數據集中的圖像數據為 Tensor 格式\n",
        "training_images = [ (transform(example['image']),example['label']) for example in dataset[\"train\"] ]\n",
        "\n"
      ],
      "metadata": {
        "id": "lcykHXQQlIWl",
        "colab": {
          "base_uri": "https://localhost:8080/"
        },
        "outputId": "c59d32d9-2071-4726-ef30-ccd1d64bc79d"
      },
      "execution_count": null,
      "outputs": [
        {
          "output_type": "stream",
          "name": "stderr",
          "text": [
            "/usr/local/lib/python3.10/dist-packages/torchvision/transforms/functional.py:1603: UserWarning: The default value of the antialias parameter of all the resizing transforms (Resize(), RandomResizedCrop(), etc.) will change from None to True in v0.17, in order to be consistent across the PIL and Tensor backends. To suppress this warning, directly pass antialias=True (recommended, future default), antialias=None (current default, which means False for Tensors and True for PIL), or antialias=False (only works on Tensors - PIL will still use antialiasing). This also applies if you are using the inference transforms from the models weights: update the call to weights.transforms(antialias=True).\n",
            "  warnings.warn(\n"
          ]
        }
      ]
    },
    {
      "cell_type": "code",
      "source": [
        "# 將列表轉換為一個包含所有 Tensor 的 Tensor\n",
        "#training_images = torch.stack(training_images)\n",
        "\n",
        "# 創建 DataLoader，指定 batch_size\n",
        "dataloader = torch.utils.data.DataLoader(training_images, batch_size=32, shuffle=True)\n",
        "'''\n",
        "# 迭代 DataLoader 取得每個 batch 的數據\n",
        "for batch_images in dataloader:\n",
        "    # 在這裡，batch_images 將是一個大小為 (batch_size, 1, 48, 48) 的 Tensor\n",
        "    print(\"Shape of batch images:\", batch_images.shape)\n",
        "    break  # 這裡只是為了顯示第一個 batch 的資訊\n",
        "'''"
      ],
      "metadata": {
        "id": "qwZf-UvOVtqk",
        "colab": {
          "base_uri": "https://localhost:8080/",
          "height": 53
        },
        "outputId": "f94ff2f5-f8fe-4174-f4e4-632571d9852d"
      },
      "execution_count": null,
      "outputs": [
        {
          "output_type": "execute_result",
          "data": {
            "text/plain": [
              "'\\n# 迭代 DataLoader 取得每個 batch 的數據\\nfor batch_images in dataloader:\\n    # 在這裡，batch_images 將是一個大小為 (batch_size, 1, 48, 48) 的 Tensor\\n    print(\"Shape of batch images:\", batch_images.shape)\\n    break  # 這裡只是為了顯示第一個 batch 的資訊\\n'"
            ],
            "application/vnd.google.colaboratory.intrinsic+json": {
              "type": "string"
            }
          },
          "metadata": {},
          "execution_count": 18
        }
      ]
    },
    {
      "cell_type": "code",
      "source": [
        "next(iter(dataloader))[1]"
      ],
      "metadata": {
        "id": "y3yb_YT2Wz2l",
        "colab": {
          "base_uri": "https://localhost:8080/"
        },
        "outputId": "cd5da683-19ec-4495-9225-3602aebf9367"
      },
      "execution_count": null,
      "outputs": [
        {
          "output_type": "execute_result",
          "data": {
            "text/plain": [
              "tensor([0, 6, 1, 9, 1, 1, 1, 1, 4, 6, 4, 3, 7, 5, 7, 4, 1, 2, 5, 4, 6, 5, 5, 5,\n",
              "        9, 1, 0, 0, 1, 7, 6, 8])"
            ]
          },
          "metadata": {},
          "execution_count": 19
        }
      ]
    },
    {
      "cell_type": "code",
      "source": [
        "for example in dataset[\"train\"]:\n",
        "  print(example)\n",
        "  break"
      ],
      "metadata": {
        "id": "e7BXPv2PEQeA",
        "colab": {
          "base_uri": "https://localhost:8080/"
        },
        "outputId": "191df812-d3c7-4190-d53d-4f1c6660dfd9"
      },
      "execution_count": null,
      "outputs": [
        {
          "output_type": "stream",
          "name": "stdout",
          "text": [
            "{'image': <PIL.PngImagePlugin.PngImageFile image mode=L size=28x28 at 0x793554DE0CA0>, 'label': 5}\n"
          ]
        }
      ]
    },
    {
      "cell_type": "code",
      "source": [
        "training_images[0][0].shape"
      ],
      "metadata": {
        "id": "dWqFJlbHuYKE",
        "colab": {
          "base_uri": "https://localhost:8080/"
        },
        "outputId": "3beadbf8-417b-49ae-b833-7096582944c6"
      },
      "execution_count": null,
      "outputs": [
        {
          "output_type": "execute_result",
          "data": {
            "text/plain": [
              "torch.Size([1, 48, 48])"
            ]
          },
          "metadata": {},
          "execution_count": 21
        }
      ]
    },
    {
      "cell_type": "code",
      "source": [
        "batch = next(iter(dataloader))"
      ],
      "metadata": {
        "id": "8Ee6jPP7lcXr"
      },
      "execution_count": null,
      "outputs": []
    },
    {
      "cell_type": "code",
      "source": [
        "type(dataloader)"
      ],
      "metadata": {
        "id": "D8tokRdUZJL8",
        "colab": {
          "base_uri": "https://localhost:8080/"
        },
        "outputId": "b63f9a0b-f0d8-4a0f-ff96-4b2ecdde056b"
      },
      "execution_count": null,
      "outputs": [
        {
          "output_type": "execute_result",
          "data": {
            "text/plain": [
              "torch.utils.data.dataloader.DataLoader"
            ]
          },
          "metadata": {},
          "execution_count": 23
        }
      ]
    },
    {
      "cell_type": "code",
      "source": [
        "batch[1]"
      ],
      "metadata": {
        "id": "gnQjbnYeXKMn",
        "colab": {
          "base_uri": "https://localhost:8080/"
        },
        "outputId": "e87c7697-c51e-4ef2-acaa-0158ea844870"
      },
      "execution_count": null,
      "outputs": [
        {
          "output_type": "execute_result",
          "data": {
            "text/plain": [
              "tensor([0, 7, 6, 4, 6, 3, 6, 5, 4, 2, 8, 3, 9, 5, 2, 4, 1, 6, 8, 9, 3, 5, 4, 1,\n",
              "        7, 0, 3, 8, 9, 9, 8, 6])"
            ]
          },
          "metadata": {},
          "execution_count": 24
        }
      ]
    },
    {
      "cell_type": "code",
      "source": [
        "len(dataloader.dataset)"
      ],
      "metadata": {
        "id": "OgY10l4ItBl4",
        "colab": {
          "base_uri": "https://localhost:8080/"
        },
        "outputId": "48288eb5-364c-4053-a1d4-b92b05a6d069"
      },
      "execution_count": null,
      "outputs": [
        {
          "output_type": "execute_result",
          "data": {
            "text/plain": [
              "60000"
            ]
          },
          "metadata": {},
          "execution_count": 25
        }
      ]
    },
    {
      "cell_type": "markdown",
      "source": [
        "### example"
      ],
      "metadata": {
        "id": "tJkylo0VeZDa"
      }
    },
    {
      "cell_type": "code",
      "source": [
        "from torch.optim import Adam\n",
        "epochs = 4\n",
        "\n",
        "\n",
        "device = \"cuda\" if torch.cuda.is_available() else \"cpu\"\n",
        "\n",
        "num_classes = 10\n",
        "model = Unet(\n",
        "      dim = 48,\n",
        "      dim_mults = (1, 2, 4, 8),\n",
        "      num_classes = num_classes,\n",
        "      channels = 1,\n",
        "      cond_drop_prob = 0.5\n",
        "  )\n",
        "diffusion = GaussianDiffusion(\n",
        "        model,\n",
        "        image_size = 48,\n",
        "        timesteps = 200\n",
        "    ).cuda()\n",
        "\n",
        "optimizer = Adam(model.parameters(), lr=1e-3)\n",
        "\n",
        "#(0,1,2,3,4,5,6,7,8,9)"
      ],
      "metadata": {
        "colab": {
          "base_uri": "https://localhost:8080/"
        },
        "id": "SzKbrxwAXrKb",
        "outputId": "4fd0b539-7c1d-44b7-c225-04b2f7430be3"
      },
      "execution_count": null,
      "outputs": [
        {
          "output_type": "stream",
          "name": "stdout",
          "text": [
            "[(48, 48), (48, 96), (96, 192), (192, 384)]\n"
          ]
        }
      ]
    },
    {
      "cell_type": "code",
      "source": [
        "torch.randint(0, num_classes, (32,))"
      ],
      "metadata": {
        "colab": {
          "base_uri": "https://localhost:8080/"
        },
        "id": "LY7t11_7XKjo",
        "outputId": "fcc8537b-15ce-4868-ebbd-2e56002f7bac"
      },
      "execution_count": null,
      "outputs": [
        {
          "output_type": "execute_result",
          "data": {
            "text/plain": [
              "tensor([0, 3, 4, 5, 6, 1, 4, 2, 7, 3, 2, 3, 6, 7, 1, 2, 3, 5, 9, 5, 3, 0, 4, 9,\n",
              "        1, 0, 2, 6, 0, 3, 1, 0])"
            ]
          },
          "metadata": {},
          "execution_count": 46
        }
      ]
    },
    {
      "cell_type": "code",
      "source": [
        "next(iter(dataloader))"
      ],
      "metadata": {
        "id": "nICP0dBJXO23"
      },
      "execution_count": null,
      "outputs": []
    },
    {
      "cell_type": "code",
      "source": [
        "#for step , (X,y) in enumerate(dataloader):\n",
        "  #y_pred = model(X , t , classes = y)\n",
        "  #print(y_pred.shape)\n",
        "  #if step == 1:\n",
        "\n",
        "#  break"
      ],
      "metadata": {
        "id": "Y_kaJh9ld1j1"
      },
      "execution_count": null,
      "outputs": []
    },
    {
      "cell_type": "code",
      "source": [
        "timesteps =200\n",
        "\n",
        "for i in range(epochs):\n",
        "  for step, (X,y) in enumerate(dataloader):\n",
        "    optimizer.zero_grad()\n",
        "    #.cuda()    # say 10 classes #用dataloader讀取\n",
        "    #t = torch.randint(0, timesteps, (len(y),),device=device).long()\n",
        "    training_images = X.cuda()\n",
        "    image_classes = y.cuda()\n",
        "\n",
        "\n",
        "    #y_pred = model(X , t , classes = y)\n",
        "\n",
        "    loss = diffusion(training_images,  classes = image_classes).cuda()\n",
        "    loss.backward()\n",
        "    if step % 1000 ==0:\n",
        "      print(\"Loss:\", loss.item())\n",
        "    #print('Loss:',loss.item())\n",
        "\n",
        "\n",
        "\n",
        "    optimizer.step()\n",
        "\n",
        "\n",
        "print('Total loss for one epoch:',loss.item())\n"
      ],
      "metadata": {
        "id": "M5SKtgif03Ok",
        "colab": {
          "base_uri": "https://localhost:8080/"
        },
        "outputId": "c7d667a8-5966-422d-ba7e-4c560c947e7e"
      },
      "execution_count": null,
      "outputs": [
        {
          "output_type": "stream",
          "name": "stdout",
          "text": [
            "Loss: 1.1107230186462402\n",
            "Loss: 0.023646187037229538\n",
            "Loss: 0.022469203919172287\n",
            "Loss: 0.021352168172597885\n",
            "Loss: 0.0366072840988636\n",
            "Loss: 0.019990913569927216\n",
            "Loss: 0.019830457866191864\n",
            "Loss: 0.013612806797027588\n",
            "Total loss for one epoch: 0.02019953727722168\n"
          ]
        }
      ]
    },
    {
      "cell_type": "code",
      "source": [
        "PATH_model ='/content/drive/MyDrive/Colab Notebooks/save_model/model_condi_e10.pt'\n",
        "PATH_opt = '/content/drive/MyDrive/Colab Notebooks/save_model/opt_model_condi_e10.pt'\n",
        "\n",
        "torch.save(model, PATH_model)\n",
        "torch.save(optimizer, PATH_opt)"
      ],
      "metadata": {
        "id": "CknksLuWDfms"
      },
      "execution_count": null,
      "outputs": []
    },
    {
      "cell_type": "code",
      "source": [
        "# do above for many steps\n",
        "image_classes = torch.randint(0, num_classes, (32,)).cuda()\n",
        "print(image_classes)\n",
        "sampled_images = diffusion.sample(\n",
        "    classes = image_classes,\n",
        "    cond_scale = 6.                # condition scaling, anything greater than 1 strengthens the classifier free guidance. reportedly 3-8 is good empirically\n",
        ").cuda()\n",
        "\n",
        "sampled_images.shape # (8, 3, 128, 128)"
      ],
      "metadata": {
        "colab": {
          "base_uri": "https://localhost:8080/",
          "height": 66,
          "referenced_widgets": [
            "c7ab94c0bae24479938e2b7009fe5f48",
            "88ad3f64d3ec448b803455eb3fcf8756",
            "b48ab66cf8ca452abafda0615de281af",
            "99b86b5398d544028b5f36343328442d",
            "4ecc42af8b1a46209c73b6290bb1977d",
            "557dcf08dd494f6fbc2a479a532cacc3",
            "9d305c88445b4730aa2ce6e359fb42c0",
            "c12c93bcaaa34faca5e29f3efad7a6f4",
            "e814d4f051c549ba8fb70bd8ec22c199",
            "71d77156554044a0a9544c74630e2ecb",
            "de82fa052dc44c6a8d3d03059b69bbc9"
          ]
        },
        "id": "u7u7mIjjSJ3C",
        "outputId": "29d0f5e1-fb72-4944-c10c-be69cb15e0fa"
      },
      "execution_count": null,
      "outputs": [
        {
          "output_type": "display_data",
          "data": {
            "text/plain": [
              "sampling loop time step:   0%|          | 0/200 [00:00<?, ?it/s]"
            ],
            "application/vnd.jupyter.widget-view+json": {
              "version_major": 2,
              "version_minor": 0,
              "model_id": "c7ab94c0bae24479938e2b7009fe5f48"
            }
          },
          "metadata": {}
        },
        {
          "output_type": "execute_result",
          "data": {
            "text/plain": [
              "torch.Size([32, 1, 48, 48])"
            ]
          },
          "metadata": {},
          "execution_count": 51
        }
      ]
    },
    {
      "cell_type": "code",
      "source": [
        "sampled_images[1]"
      ],
      "metadata": {
        "id": "pJ3ducMcVIbY",
        "colab": {
          "base_uri": "https://localhost:8080/"
        },
        "outputId": "b6e0c437-1b1c-46a7-d116-291ba922f681"
      },
      "execution_count": null,
      "outputs": [
        {
          "output_type": "execute_result",
          "data": {
            "text/plain": [
              "tensor([[[0.0061, 0.0191, 0.0125,  ..., 0.0139, 0.0241, 0.0115],\n",
              "         [0.0145, 0.0115, 0.0084,  ..., 0.0063, 0.0130, 0.0139],\n",
              "         [0.0088, 0.0074, 0.0099,  ..., 0.0064, 0.0109, 0.0091],\n",
              "         ...,\n",
              "         [0.0128, 0.0095, 0.0122,  ..., 0.0102, 0.0098, 0.0109],\n",
              "         [0.0175, 0.0118, 0.0135,  ..., 0.0108, 0.0125, 0.0095],\n",
              "         [0.0064, 0.0118, 0.0139,  ..., 0.0098, 0.0122, 0.0000]]],\n",
              "       device='cuda:0')"
            ]
          },
          "metadata": {},
          "execution_count": 52
        }
      ]
    },
    {
      "cell_type": "code",
      "source": [
        "torch.tensor(0).unsqueeze(0)"
      ],
      "metadata": {
        "id": "sB5TKA4cTjDq",
        "colab": {
          "base_uri": "https://localhost:8080/"
        },
        "outputId": "dd0be2ad-6c15-4600-f794-cebbd6720f37"
      },
      "execution_count": null,
      "outputs": [
        {
          "output_type": "execute_result",
          "data": {
            "text/plain": [
              "tensor([0])"
            ]
          },
          "metadata": {},
          "execution_count": 53
        }
      ]
    },
    {
      "cell_type": "code",
      "source": [
        "for i in range(32):\n",
        "  plt.subplot(4,8,i+1)\n",
        "  plt.imshow(sampled_images[i].cpu().detach().squeeze(0).squeeze(0), cmap='gray')"
      ],
      "metadata": {
        "colab": {
          "base_uri": "https://localhost:8080/",
          "height": 407
        },
        "id": "LY6c76UmTC_u",
        "outputId": "7a6880d9-8ffb-4b06-f4a2-e8fd9cf88cfe"
      },
      "execution_count": null,
      "outputs": [
        {
          "output_type": "display_data",
          "data": {
            "text/plain": [
              "<Figure size 640x480 with 32 Axes>"
            ],
            "image/png": "[encoded data removed]"
          },
          "metadata": {}
        }
      ]
    },
    {
      "cell_type": "code",
      "source": [
        "diffusion.objective==''"
      ],
      "metadata": {
        "id": "BCKl9VviHmhs",
        "colab": {
          "base_uri": "https://localhost:8080/"
        },
        "outputId": "f2d23548-6e68-4fe8-ce7b-23a965df5542"
      },
      "execution_count": null,
      "outputs": [
        {
          "output_type": "execute_result",
          "data": {
            "text/plain": [
              "False"
            ]
          },
          "metadata": {},
          "execution_count": 55
        }
      ]
    },
    {
      "cell_type": "code",
      "source": [
        "diffusion.model_predictions(batch)"
      ],
      "metadata": {
        "id": "oi3t6MXaz_Ci",
        "colab": {
          "base_uri": "https://localhost:8080/",
          "height": 178
        },
        "outputId": "331d1c0e-6a68-4009-f22d-b49faf43755e"
      },
      "execution_count": null,
      "outputs": [
        {
          "output_type": "error",
          "ename": "TypeError",
          "evalue": "ignored",
          "traceback": [
            "\u001b[0;31m---------------------------------------------------------------------------\u001b[0m",
            "\u001b[0;31mTypeError\u001b[0m                                 Traceback (most recent call last)",
            "\u001b[0;32m<ipython-input-56-629a2121a4d0>\u001b[0m in \u001b[0;36m<cell line: 1>\u001b[0;34m()\u001b[0m\n\u001b[0;32m----> 1\u001b[0;31m \u001b[0mdiffusion\u001b[0m\u001b[0;34m.\u001b[0m\u001b[0mmodel_predictions\u001b[0m\u001b[0;34m(\u001b[0m\u001b[0mbatch\u001b[0m\u001b[0;34m)\u001b[0m\u001b[0;34m\u001b[0m\u001b[0;34m\u001b[0m\u001b[0m\n\u001b[0m",
            "\u001b[0;31mTypeError\u001b[0m: GaussianDiffusion.model_predictions() missing 2 required positional arguments: 't' and 'classes'"
          ]
        }
      ]
    },
    {
      "cell_type": "code",
      "source": [
        "#epochs = 10\n",
        "#for i in range(epochs):\n",
        "if __name__ == '__main__':\n",
        "  num_classes = 10 #(0,1,2,3,4,5,6,7,8,9)\n",
        "\n",
        "  model = Unet(\n",
        "      dim = 48,\n",
        "      dim_mults = (1, 2, 4, 8),\n",
        "      num_classes = num_classes,\n",
        "      channels = 1,\n",
        "      cond_drop_prob = 0.5\n",
        "  )\n",
        "\n",
        "  diffusion = GaussianDiffusion(\n",
        "      model,\n",
        "      image_size = 48,\n",
        "      timesteps = 200\n",
        "  )#.cuda()\n",
        "\n",
        "  #training_images = torch.randn(8, 3, 48, 48).cuda() # images are normalized from 0 to 1\n",
        "  image_classes = torch.randint(0, num_classes, (8,))#.cuda()    # say 10 classes\n",
        "\n",
        "\n",
        "\n",
        "  loss = diffusion(batch, classes = image_classes)\n",
        "  print(\"Loss:\", loss.item())\n",
        "  loss.backward()\n",
        "\n",
        "  # do above for many steps\n",
        "\n",
        "  sampled_images = diffusion.sample(\n",
        "      classes = image_classes,\n",
        "      cond_scale = 6.                # condition scaling, anything greater than 1 strengthens the classifier free guidance. reportedly 3-8 is good empirically\n",
        "  )\n",
        "\n",
        "  sampled_images.shape # (8, 3, 128, 128)\n",
        "\n",
        "  # interpolation\n",
        "\n",
        "  interpolate_out = diffusion.interpolate(\n",
        "      training_images[:1],\n",
        "      training_images[:1],\n",
        "      image_classes[:1]\n",
        "  )"
      ],
      "metadata": {
        "id": "vGEWcViTY-9I"
      },
      "execution_count": null,
      "outputs": []
    },
    {
      "cell_type": "code",
      "source": [
        "sampled_images.shape"
      ],
      "metadata": {
        "id": "puXx8E8KrOAR"
      },
      "execution_count": null,
      "outputs": []
    },
    {
      "cell_type": "code",
      "source": [
        "a = sampled_images.cpu()[-1][0]"
      ],
      "metadata": {
        "id": "XfLbb0Q0coWm"
      },
      "execution_count": null,
      "outputs": []
    },
    {
      "cell_type": "code",
      "source": [
        "a.shape"
      ],
      "metadata": {
        "id": "OU-lw8kzc0Kb"
      },
      "execution_count": null,
      "outputs": []
    },
    {
      "cell_type": "code",
      "source": [
        "for i in range(2):\n",
        "  plt.subplot(2,2,i+1)\n",
        "  plt.imshow(sampled_images.cpu()[i][-1], cmap='gray')\n",
        "#plt.imshow(a, cmap='gray')"
      ],
      "metadata": {
        "id": "Ek7tqJb2cTUx"
      },
      "execution_count": null,
      "outputs": []
    },
    {
      "cell_type": "code",
      "source": [
        "for i in range(8):\n",
        "    # 取得單張圖片\n",
        "    img = sampled_images[i, 0, :, :]  # 由於是灰度圖，取得第一個通道\n",
        "\n",
        "    # 顯示圖片\n",
        "    plt.subplot(2, 4, i + 1)  # 2x4 的網格，第 i+1 張圖\n",
        "    plt.imshow(img, cmap='gray')  # 使用灰度色彩映射\n",
        "    plt.axis('off')  # 不顯示坐標軸"
      ],
      "metadata": {
        "id": "kPA2NMH2NIu7"
      },
      "execution_count": null,
      "outputs": []
    },
    {
      "cell_type": "code",
      "source": [],
      "metadata": {
        "id": "tpbTp2CTdx5q"
      },
      "execution_count": null,
      "outputs": []
    }
  ]
}